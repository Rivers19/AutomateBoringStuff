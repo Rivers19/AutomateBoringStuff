{
 "cells": [
  {
   "cell_type": "code",
   "execution_count": 13,
   "metadata": {},
   "outputs": [
    {
     "name": "stdout",
     "output_type": "stream",
     "text": [
      "usr/bin/spam\n",
      "/Users/rivers/tkpjc/SelfLearning/AutomateTheBoringStuff/ReadWriteFiles/ account.txt\n",
      "/Users/rivers/tkpjc/SelfLearning/AutomateTheBoringStuff/ReadWriteFiles/ details.csv\n",
      "/Users/rivers/tkpjc/SelfLearning/AutomateTheBoringStuff/ReadWriteFiles/ invite.docx\n"
     ]
    }
   ],
   "source": [
    "import os\n",
    "\n",
    "dir1 = os.path.join('usr', 'bin', 'spam')\n",
    "print(dir1)\n",
    "\n",
    "myFiles = ['account.txt', 'details.csv', 'invite.docx']\n",
    "for filename in myFiles:\n",
    "    print(os.path.join('/Users/rivers/tkpjc/SelfLearning/AutomateTheBoringStuff/ReadWriteFiles/'),filename)\n",
    "    "
   ]
  },
  {
   "cell_type": "code",
   "execution_count": 7,
   "metadata": {},
   "outputs": [
    {
     "name": "stdout",
     "output_type": "stream",
     "text": [
      "/Users/rivers/tkpjc/SelfLearning/AutomateTheBoringStuff/ReadWriteFiles\n",
      "/Users/rivers/tkpjc/SelfLearning/AutomateTheBoringStuff/ReadWriteFiles\n"
     ]
    }
   ],
   "source": [
    "\"\"\"\n",
    "当前工作目录\n",
    "author@jiangchuan 20190718\n",
    "\"\"\"\n",
    "import os \n",
    "dir1 = os.getcwd()    # 当前工作目录\n",
    "\n",
    "os.chdir('/Users/rivers/tkpjc/SelfLearning/AutomateTheBoringStuff/ReadWriteFiles') # 更改目录\n",
    "dir2 = os.getcwd()   # 当前工作目录\n",
    "\n",
    "print(dir1)\n",
    "print(dir2)"
   ]
  },
  {
   "cell_type": "code",
   "execution_count": 14,
   "metadata": {},
   "outputs": [
    {
     "data": {
      "text/plain": [
       "'\\n绝对路径和相对路径\\nauthor@jiangchuan 20190717\\n\\n绝对路径：总是从根文件夹开始\\n相对路径：相对于程序的当前工作目录\\n点(.)和点点(.)文件夹，它们不是真正的文件夹，而是可以在路径中使用的特殊名称\\n前者是“这个目录”的缩写，后者是父文件夹\\n'"
      ]
     },
     "execution_count": 14,
     "metadata": {},
     "output_type": "execute_result"
    }
   ],
   "source": [
    "\"\"\"\n",
    "绝对路径和相对路径\n",
    "author@jiangchuan 20190718\n",
    "\n",
    "绝对路径：总是从根文件夹开始\n",
    "相对路径：相对于程序的当前工作目录\n",
    "点(.)和点点(.)文件夹，它们不是真正的文件夹，而是可以在路径中使用的特殊名称\n",
    "前者是“这个目录”的缩写，后者是父文件夹\n",
    "\"\"\""
   ]
  },
  {
   "cell_type": "code",
   "execution_count": 19,
   "metadata": {},
   "outputs": [],
   "source": [
    "\"\"\"\n",
    "os.makedirs()创建新文件夹\n",
    "处理绝对路径和相对路径\n",
    "author@jiangchuan 20190718\n",
    "\"\"\"\n",
    "import os\n",
    "\n",
    "# makedirs()创建文件夹\n",
    "os.makedirs('/Users/rivers/tkpjc/SelfLearning/AutomateTheBoringStuff/ReadWriteFiles/test')\n"
   ]
  },
  {
   "cell_type": "code",
   "execution_count": 40,
   "metadata": {},
   "outputs": [
    {
     "name": "stdout",
     "output_type": "stream",
     "text": [
      "/Users/rivers/tkpjc/SelfLearning/AutomateTheBoringStuff/ReadWriteFiles\n",
      "False\n",
      "True\n",
      "../../../../../..\n",
      "/Users/rivers/tkpjc/SelfLearning/AutomateTheBoringStuff/ReadWriteFiles\n",
      "ReadWriteFiles.ipynb\n",
      "('/Users/rivers/tkpjc/SelfLearning/AutomateTheBoringStuff/ReadWriteFiles', 'ReadWriteFiles.ipynb')\n",
      "/\n",
      "('/', '')\n",
      "['', 'Users', 'rivers', 'tkpjc', 'SelfLearning', 'AutomateTheBoringStuff', 'ReadWriteFiles', 'ReadWriteFiles.ipynb']\n"
     ]
    }
   ],
   "source": [
    "\"\"\"\n",
    "处理绝对路径和相对路径\n",
    "author@jiangchuan 20190718\n",
    "\"\"\"\n",
    "import os\n",
    "\n",
    "# 返回绝对路径\n",
    "print(os.path.abspath('.'))\n",
    "\n",
    "# 调用os.path.isabs(path)，如果path是绝对路径则返回True，否则返回False\n",
    "print(os.path.isabs('.'))\n",
    "print(os.path.isabs(os.path.abspath('.')))\n",
    "\n",
    "# 调用os.path.relpath(path,start)将返回一个从start路径到path的相对路径的字符串\n",
    "print(os.path.relpath('/Users','/Users/rivers/tkpjc/SelfLearning/AutomateTheBoringStuff/ReadWriteFiles/test'))\n",
    "\n",
    "# 调用os.path.dirname(path)将返回一个字符串，包含path参数中最后一个斜杠之前的所有内容\n",
    "# 调用os.path.basename(path)将返回一个字符串，包含path参数中最后一个斜杠之后的所有内容\n",
    "# 若同时需要一个路径的目录名称和基本名称，可以调用os.path.split()获得这两个字符串的元组\n",
    "path = '/Users/rivers/tkpjc/SelfLearning/AutomateTheBoringStuff/ReadWriteFiles/ReadWriteFiles.ipynb'\n",
    "print(os.path.dirname(path))\n",
    "print(os.path.basename(path))\n",
    "print(os.path.split(path))\n",
    "\n",
    "# os.path.sep 分割\n",
    "print(os.path.sep)\n",
    "print(os.path.split(os.path.sep))\n",
    "print('/Users/rivers/tkpjc/SelfLearning/AutomateTheBoringStuff/ReadWriteFiles/ReadWriteFiles.ipynb'.split(os.path.sep))\n"
   ]
  },
  {
   "cell_type": "code",
   "execution_count": 51,
   "metadata": {},
   "outputs": [
    {
     "name": "stdout",
     "output_type": "stream",
     "text": [
      "8834\n",
      "['Regex', 'ReadWriteFiles', '.ipynb_checkpoints']\n",
      "416\n"
     ]
    }
   ],
   "source": [
    "\"\"\"\n",
    "查看文件大小和文件内容\n",
    "author@jiangchuan 20190718\n",
    "\"\"\"\n",
    "\n",
    "import os\n",
    "\n",
    "# getsize(path)返回path参数中文件的字节数\n",
    "print(os.path.getsize('/Users/rivers/tkpjc/SelfLearning/AutomateTheBoringStuff/ReadWriteFiles/ReadWriteFiles.ipynb')) \n",
    "\n",
    "# os.listdir(path)返回path参数中的每个文件\n",
    "print(os.listdir('/Users/rivers/tkpjc/SelfLearning/AutomateTheBoringStuff'))\n",
    "\n",
    "# 计算指定文件夹下文件大小\n",
    "totalSize = 0\n",
    "for filename in os.listdir('/Users/rivers/tkpjc/SelfLearning/AutomateTheBoringStuff'):\n",
    "    totalSize = totalSize + os.path.getsize(os.path.join('/Users/rivers/tkpjc/SelfLearning/AutomateTheBoringStuff',filename))\n",
    "print(totalSize)"
   ]
  },
  {
   "cell_type": "code",
   "execution_count": 57,
   "metadata": {},
   "outputs": [
    {
     "name": "stdout",
     "output_type": "stream",
     "text": [
      "True\n",
      "False\n",
      "True\n"
     ]
    }
   ],
   "source": [
    "\"\"\"\n",
    "检查路径有效性\n",
    "author@jiangchuan 20190718\n",
    "\"\"\"\n",
    "\n",
    "import os\n",
    "\n",
    "# os.path.exists(path),如path所指文件或文件夹存在，则返回True，否则False\n",
    "print(os.path.exists('/Users/rivers/tkpjc/SelfLearning/AutomateTheBoringStuff'))\n",
    "\n",
    "# os.path.isfile(path),若path参数存在且是一个文件，则返回True，否则返回False\n",
    "print(os.path.isfile('/Users/rivers/tkpjc/SelfLearning/AutomateTheBoringStuff'))\n",
    "\n",
    "# os.path.isdir(path),若path参数存在，且是一个文件夹，则返回True，否则返回False\n",
    "print(os.path.isdir('/Users/rivers/tkpjc/SelfLearning/AutomateTheBoringStuff'))\n"
   ]
  },
  {
   "cell_type": "code",
   "execution_count": 63,
   "metadata": {},
   "outputs": [
    {
     "name": "stdout",
     "output_type": "stream",
     "text": [
      "\"\"\"\n",
      "管理复杂的正则表达式\n",
      "author@jiangchuan 20190718\n",
      "\n",
      "向re.compile()传入变量re.VERBOSE 作为第二个参数; 从而可以添加#注释\n",
      "\"\"\"\n",
      "\n",
      "import re, pyperclip\n",
      "\n",
      "# 电话号码正则表达式\n",
      "phoneRegex  = re.compile(r'''(\n",
      "    (\\d{3}|\\(\\d{3}\\))？          # area code\n",
      "    (\\s|-|\\.)?                  # separator\n",
      "    (\\d{3})                     # first 3 digits\n",
      "    (\\s|-|\\.)                   # separator\n",
      "    (\\d{4})                     # last 4 digits\n",
      "    (\\s*(ext|x|ext\\.)\\s*(\\d{2,5}))?  # extension\n",
      "    )''', re.VERBOSE)\n",
      "\n",
      "# 电子邮箱正则表达式\n",
      "emailRegex = re.compile(r'''(\n",
      "    [a-zA-Z0-9._%+-]+           # username\n",
      "    @                           # @ symbol\n",
      "    [a-zA-Z0-9.-]+              # domain name\n",
      "    (\\.[a-zA-Z]{2,4})           # dot-something\n",
      "    )''', re.VERBOSE)\n",
      "\n",
      "# 剪贴板文本中找到匹配\n",
      "text = str(pyperclip.paste())\n",
      "matches = []                                                     # 所有的匹配保存在matches的列表变量中\n",
      "for groups in phoneRegex.findall(text):\n",
      "    phoneNum = '-'.join([groups[1], groups[3], groups[5]])       # phoneNum变量包含一个字符串，由匹配文本的分组1、3、5和8构成（这些分组分别是区号、前3个数字、后4个数字和分机号）\n",
      "    if groups[8] != '':\n",
      "        phoneNum += ' x' + groups[8]\n",
      "    matches.append(phoneNum)\n",
      "for groups in emailRegex.findall(text):\n",
      "    matches.append(groups[0])\n",
      "    \n",
      "# 所有匹配连接成一个字符串，复制到剪贴板\n",
      "if len(matches) > 0:\n",
      "    pyperclip.copy('\\n'.join(matches))                   # pyperclip.copy()函数只接收一个字符串值，而非字符串列表，故而在matches上使用了join()方法\n",
      "    print('Copied to clipboard:')\n",
      "    print('\\n'.join(matches))\n",
      "else:\n",
      "    print('No phone numbers or email addresses found.')\n",
      "[]\n"
     ]
    }
   ],
   "source": [
    "\"\"\"\n",
    "文件读写过程\n",
    "author@jiangchuan 20190718\n",
    "\n",
    "Python读写文件有3个步骤：\n",
    "1. 调用open()函数，返回一个File对象\n",
    "2. 调用File对象的read()或write()方法\n",
    "3. 调用FIle对象的close()方法，关闭该文件\n",
    "\"\"\"\n",
    "\n",
    "\n",
    "pythonFile = open('/Users/rivers/tkpjc/SelfLearning/AutomateTheBoringStuff/Regex/02Regex.py')\n",
    "pythonContent = pythonFile.read()\n",
    "print(pythonContent)\n",
    "\n",
    "pythonConten1 = pythonFile.readlines()\n",
    "print(pythonConten1)\n"
   ]
  },
  {
   "cell_type": "code",
   "execution_count": 74,
   "metadata": {},
   "outputs": [
    {
     "name": "stdout",
     "output_type": "stream",
     "text": [
      "Hello world!\n",
      "Bacon is not a vegetable.\n"
     ]
    }
   ],
   "source": [
    "textFile = open('/Users/rivers/tkpjc/SelfLearning/AutomateTheBoringStuff/ReadWriteFiles/test/write.txt', 'w')\n",
    "textFile.write('Hello world!\\n')\n",
    "textFile.close()\n",
    "textFile = open('/Users/rivers/tkpjc/SelfLearning/AutomateTheBoringStuff/ReadWriteFiles/test/write.txt', 'a')\n",
    "textFile.write('Bacon is not a vegetable.')\n",
    "textFile.close()\n",
    "textFile = open('/Users/rivers/tkpjc/SelfLearning/AutomateTheBoringStuff/ReadWriteFiles/test/write.txt')\n",
    "content = textFile.read()\n",
    "textFile.close()\n",
    "print(content)"
   ]
  },
  {
   "cell_type": "code",
   "execution_count": 84,
   "metadata": {},
   "outputs": [],
   "source": [
    "\"\"\"\n",
    "用shelve模块保存变量\n",
    "author@jiangchuan20190719\n",
    "\"\"\"\n",
    "\n",
    "import shelve, os                         # 导入shelve，利用该模块读写数据\n",
    "shelfFile = shelve.open('mydata')         # 调用open()并传入一个文件名，然后将返回的值保存在一个变量中，可对这个变量的shelf值进行修改\n",
    "cats = ['Zophie', 'Pooka', 'Simon']       # 创建cats列表\n",
    "shelfFile['cats'] = cats                  # cats列表保存在shelfFile中，作为键cats关联的值\n",
    "shelfFile.close()\n"
   ]
  },
  {
   "cell_type": "code",
   "execution_count": 87,
   "metadata": {},
   "outputs": [
    {
     "data": {
      "text/plain": [
       "shelve.DbfilenameShelf"
      ]
     },
     "execution_count": 87,
     "metadata": {},
     "output_type": "execute_result"
    }
   ],
   "source": [
    "import shelve\n",
    "type(shelfFile)"
   ]
  },
  {
   "cell_type": "code",
   "execution_count": 93,
   "metadata": {},
   "outputs": [
    {
     "data": {
      "text/plain": [
       "shelve.DbfilenameShelf"
      ]
     },
     "execution_count": 93,
     "metadata": {},
     "output_type": "execute_result"
    }
   ],
   "source": [
    "import shelve\n",
    "shelfFile = shelve.open('mydata')\n",
    "type(shelfFile)\n",
    "shelfFile('cats')\n",
    "shelfFile.close()"
   ]
  },
  {
   "cell_type": "code",
   "execution_count": 97,
   "metadata": {},
   "outputs": [],
   "source": [
    "\"\"\"\n",
    "用pprint.pfrormat()函数保存变量\n",
    "author@jiangchuan20190719\n",
    "\"\"\"\n",
    "\n",
    "import pprint\n",
    "cats = [{'name':'Zaza','desc':'Cici'}, {'name':'Papa', 'desc':'Fyfy'}]\n",
    "pprint.pformat(cats)\n",
    "fileObj = open('myCats.py', 'w')\n",
    "fileObj.write('cats = ' + pprint.pformat(cats) + '\\n')\n",
    "fileObj.close()"
   ]
  },
  {
   "cell_type": "code",
   "execution_count": 100,
   "metadata": {},
   "outputs": [
    {
     "name": "stdout",
     "output_type": "stream",
     "text": [
      "[{'desc': 'Cici', 'name': 'Zaza'}, {'desc': 'Fyfy', 'name': 'Papa'}]\n",
      "{'desc': 'Cici', 'name': 'Zaza'}\n",
      "Zaza\n"
     ]
    }
   ],
   "source": [
    "import myCats\n",
    "print(myCats.cats)\n",
    "print(myCats.cats[0])\n",
    "print(myCats.cats[0]['name'])"
   ]
  },
  {
   "cell_type": "code",
   "execution_count": 101,
   "metadata": {},
   "outputs": [
    {
     "ename": "ValueError",
     "evalue": "unsupported format character 't' (0x74) at index 22",
     "output_type": "error",
     "traceback": [
      "\u001b[0;31m---------------------------------------------------------------------------\u001b[0m",
      "\u001b[0;31mValueError\u001b[0m                                Traceback (most recent call last)",
      "\u001b[0;32m<ipython-input-101-052473dadb07>\u001b[0m in \u001b[0;36m<module>\u001b[0;34m\u001b[0m\n\u001b[1;32m     26\u001b[0m     \u001b[0;31m# 创建答卷和答案文件\u001b[0m\u001b[0;34m\u001b[0m\u001b[0;34m\u001b[0m\u001b[0;34m\u001b[0m\u001b[0m\n\u001b[1;32m     27\u001b[0m     \u001b[0mquizFile\u001b[0m \u001b[0;34m=\u001b[0m \u001b[0mopen\u001b[0m\u001b[0;34m(\u001b[0m\u001b[0;34m'captialsquiz%s.txt'\u001b[0m \u001b[0;34m%\u001b[0m \u001b[0;34m(\u001b[0m\u001b[0mquizNum\u001b[0m \u001b[0;34m+\u001b[0m \u001b[0;36m1\u001b[0m\u001b[0;34m)\u001b[0m\u001b[0;34m,\u001b[0m \u001b[0;34m'w'\u001b[0m\u001b[0;34m)\u001b[0m\u001b[0;34m\u001b[0m\u001b[0;34m\u001b[0m\u001b[0m\n\u001b[0;32m---> 28\u001b[0;31m     \u001b[0manswerKeyFile\u001b[0m \u001b[0;34m=\u001b[0m \u001b[0mopen\u001b[0m\u001b[0;34m(\u001b[0m\u001b[0;34m'captialsquiz_answers%.txt'\u001b[0m \u001b[0;34m%\u001b[0m \u001b[0;34m(\u001b[0m\u001b[0mquizNum\u001b[0m \u001b[0;34m+\u001b[0m \u001b[0;36m1\u001b[0m\u001b[0;34m)\u001b[0m\u001b[0;34m,\u001b[0m \u001b[0;34m'w'\u001b[0m\u001b[0;34m)\u001b[0m\u001b[0;34m\u001b[0m\u001b[0;34m\u001b[0m\u001b[0m\n\u001b[0m\u001b[1;32m     29\u001b[0m \u001b[0;34m\u001b[0m\u001b[0m\n\u001b[1;32m     30\u001b[0m     \u001b[0;31m# write out the header of for the quiz\u001b[0m\u001b[0;34m\u001b[0m\u001b[0;34m\u001b[0m\u001b[0;34m\u001b[0m\u001b[0m\n",
      "\u001b[0;31mValueError\u001b[0m: unsupported format character 't' (0x74) at index 22"
     ]
    }
   ],
   "source": [
    "import random\n",
    "\n",
    "# 将测验数据保存在一个字典中\n",
    "capitals = {\n",
    "    'Alabama': 'Montgomery', 'Alaska': 'Juneau', 'Arizona': 'Phoneix', \n",
    "'Arkansas': 'Little Rock', 'California': 'Sacramento', 'Colarado': 'Denver',\n",
    "'Connecticut': 'Hartford', 'Delaware': 'Dover', 'Florida': 'Tallahassee',\n",
    "'Georgria': 'Atlanta', 'Hawaii': 'Honolulu', 'Idaho': 'Boise', 'Illinois':\n",
    "'Springfield', 'Indiana': 'Indianapolis', 'Iowa': 'Des Moines', 'Kansas':\n",
    "'Topeka', 'Kentucky': 'Frankfort', 'Louisiana': 'Baton Rouge', 'Maine':\n",
    "'Augusta', 'Maryland': 'Annapolis', 'Massachusetts': 'Boston', 'Michigan':\n",
    "'Lansing', 'Minnesota': 'Saint Paul', 'Mississippi': 'Jackson', 'Missouri':\n",
    "'Jefferson City', 'Montana': 'Helena', 'Nebraska': 'Lincoln', 'Nevada':\n",
    "'Carson CIty', 'New Hampshire': 'Concord', 'New Jersey': 'Trenton', 'new Mexico':\n",
    "'Santa Fe', 'New York': 'Albany', 'North Carolina': 'Raleigh', 'North Dakota':\n",
    "'Bismarck', 'Ohio': 'Colubus', 'Oklahoma': 'Okalahoma City', 'Oregon': 'Salem',\n",
    "'Pennsylvania': 'Harrisburg', 'Rhode Island': 'Providence', 'South Carolina': 'Columbia',\n",
    "'South Dakota': 'Pierre', 'Tennessee': 'Nahville', 'Texas': 'Austin', 'Utah': \n",
    "'Salt Lake City', 'Vermont': 'Montpelier', 'Virginia': 'Richmond', 'Washington':\n",
    "'Olympia', 'West Virinia': 'Charleston', 'Wisconsin': 'Madison', 'Wyoming': 'Cheyenne'\n",
    "}\n",
    "\n",
    "# 创建测验文件，并打乱问题的次序\n",
    "for quizNum in range(35):\n",
    "\n",
    "    # 创建答卷和答案文件\n",
    "    quizFile = open('captialsquiz%s.txt' % (quizNum + 1), 'w')\n",
    "    answerKeyFile = open('captialsquiz_answers%.txt' % (quizNum + 1), 'w')\n",
    "\n",
    "    # write out the header of for the quiz\n",
    "    quizFile.write('Name:\\n\\nDate:\\n\\nPeriod:\\n\\n')\n",
    "    quizFile.write((' ' * 20) + 'State Capitails Quiz (Form %)' % (quizNum + 1))\n",
    "    quizFile.write('\\n\\n')\n",
    "\n",
    "    # 打乱次序\n",
    "    states = list(capitals.keys())\n",
    "    random.shuffle(states)\n",
    "\n",
    "    # 创建答案选项\n",
    "    for questionNum in range(50):\n",
    "\n",
    "        # 获取正确或错误答案\n",
    "        correctAnswer = capitals[states[questionNum]]\n",
    "        wrongAnswers = list(capitals.values())\n",
    "        del wrongAnswers[wrongAnswers.index(correctAnswer)]\n",
    "        wrongAnswers = random.sample(wrongAnswers, 3)\n",
    "        answerOptions = wrongAnswers + [correctAnswer]\n",
    "        random.shuffle(answerOptions)\n",
    "\n",
    "        # 将内容写入测验试卷和答案文件\n",
    "        quizFile.write(' %s. What is the capital of %s?\\n' % (questionNum + 1, states[questionNum]))\n",
    "        for i in range(4):\n",
    "            quizFile.write('\\n')\n",
    "        \n",
    "        answerKeyFile.write('%s. %s\\n' % (questionNum + 1, 'ABCD'[answerOptions.index(correctAnswer)]))\n",
    "        quizFile.close()\n",
    "        answerKeyFile.close()"
   ]
  },
  {
   "cell_type": "code",
   "execution_count": null,
   "metadata": {},
   "outputs": [],
   "source": []
  }
 ],
 "metadata": {
  "kernelspec": {
   "display_name": "Python 3",
   "language": "python",
   "name": "python3"
  },
  "language_info": {
   "codemirror_mode": {
    "name": "ipython",
    "version": 3
   },
   "file_extension": ".py",
   "mimetype": "text/x-python",
   "name": "python",
   "nbconvert_exporter": "python",
   "pygments_lexer": "ipython3",
   "version": "3.7.1"
  }
 },
 "nbformat": 4,
 "nbformat_minor": 2
}
