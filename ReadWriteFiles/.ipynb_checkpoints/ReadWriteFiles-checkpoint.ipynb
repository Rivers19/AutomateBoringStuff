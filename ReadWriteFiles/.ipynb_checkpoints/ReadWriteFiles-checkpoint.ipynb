{
 "cells": [
  {
   "cell_type": "code",
   "execution_count": 13,
   "metadata": {},
   "outputs": [
    {
     "name": "stdout",
     "output_type": "stream",
     "text": [
      "usr/bin/spam\n",
      "/Users/rivers/tkpjc/SelfLearning/AutomateTheBoringStuff/ReadWriteFiles/ account.txt\n",
      "/Users/rivers/tkpjc/SelfLearning/AutomateTheBoringStuff/ReadWriteFiles/ details.csv\n",
      "/Users/rivers/tkpjc/SelfLearning/AutomateTheBoringStuff/ReadWriteFiles/ invite.docx\n"
     ]
    }
   ],
   "source": [
    "import os\n",
    "\n",
    "dir1 = os.path.join('usr', 'bin', 'spam')\n",
    "print(dir1)\n",
    "\n",
    "myFiles = ['account.txt', 'details.csv', 'invite.docx']\n",
    "for filename in myFiles:\n",
    "    print(os.path.join('/Users/rivers/tkpjc/SelfLearning/AutomateTheBoringStuff/ReadWriteFiles/'),filename)\n",
    "    "
   ]
  },
  {
   "cell_type": "code",
   "execution_count": 7,
   "metadata": {},
   "outputs": [
    {
     "name": "stdout",
     "output_type": "stream",
     "text": [
      "/Users/rivers/tkpjc/SelfLearning/AutomateTheBoringStuff/ReadWriteFiles\n",
      "/Users/rivers/tkpjc/SelfLearning/AutomateTheBoringStuff/ReadWriteFiles\n"
     ]
    }
   ],
   "source": [
    "\"\"\"\n",
    "当前工作目录\n",
    "author@jiangchuan 20190718\n",
    "\"\"\"\n",
    "import os \n",
    "dir1 = os.getcwd()    # 当前工作目录\n",
    "\n",
    "os.chdir('/Users/rivers/tkpjc/SelfLearning/AutomateTheBoringStuff/ReadWriteFiles') # 更改目录\n",
    "dir2 = os.getcwd()   # 当前工作目录\n",
    "\n",
    "print(dir1)\n",
    "print(dir2)"
   ]
  },
  {
   "cell_type": "code",
   "execution_count": 14,
   "metadata": {},
   "outputs": [
    {
     "data": {
      "text/plain": [
       "'\\n绝对路径和相对路径\\nauthor@jiangchuan 20190717\\n\\n绝对路径：总是从根文件夹开始\\n相对路径：相对于程序的当前工作目录\\n点(.)和点点(.)文件夹，它们不是真正的文件夹，而是可以在路径中使用的特殊名称\\n前者是“这个目录”的缩写，后者是父文件夹\\n'"
      ]
     },
     "execution_count": 14,
     "metadata": {},
     "output_type": "execute_result"
    }
   ],
   "source": [
    "\"\"\"\n",
    "绝对路径和相对路径\n",
    "author@jiangchuan 20190718\n",
    "\n",
    "绝对路径：总是从根文件夹开始\n",
    "相对路径：相对于程序的当前工作目录\n",
    "点(.)和点点(.)文件夹，它们不是真正的文件夹，而是可以在路径中使用的特殊名称\n",
    "前者是“这个目录”的缩写，后者是父文件夹\n",
    "\"\"\""
   ]
  },
  {
   "cell_type": "code",
   "execution_count": 19,
   "metadata": {},
   "outputs": [],
   "source": [
    "\"\"\"\n",
    "os.makedirs()创建新文件夹\n",
    "处理绝对路径和相对路径\n",
    "author@jiangchuan 20190718\n",
    "\"\"\"\n",
    "import os\n",
    "\n",
    "# makedirs()创建文件夹\n",
    "os.makedirs('/Users/rivers/tkpjc/SelfLearning/AutomateTheBoringStuff/ReadWriteFiles/test')\n"
   ]
  },
  {
   "cell_type": "code",
   "execution_count": 40,
   "metadata": {},
   "outputs": [
    {
     "name": "stdout",
     "output_type": "stream",
     "text": [
      "/Users/rivers/tkpjc/SelfLearning/AutomateTheBoringStuff/ReadWriteFiles\n",
      "False\n",
      "True\n",
      "../../../../../..\n",
      "/Users/rivers/tkpjc/SelfLearning/AutomateTheBoringStuff/ReadWriteFiles\n",
      "ReadWriteFiles.ipynb\n",
      "('/Users/rivers/tkpjc/SelfLearning/AutomateTheBoringStuff/ReadWriteFiles', 'ReadWriteFiles.ipynb')\n",
      "/\n",
      "('/', '')\n",
      "['', 'Users', 'rivers', 'tkpjc', 'SelfLearning', 'AutomateTheBoringStuff', 'ReadWriteFiles', 'ReadWriteFiles.ipynb']\n"
     ]
    }
   ],
   "source": [
    "\"\"\"\n",
    "处理绝对路径和相对路径\n",
    "author@jiangchuan 20190718\n",
    "\"\"\"\n",
    "import os\n",
    "\n",
    "# 返回绝对路径\n",
    "print(os.path.abspath('.'))\n",
    "\n",
    "# 调用os.path.isabs(path)，如果path是绝对路径则返回True，否则返回False\n",
    "print(os.path.isabs('.'))\n",
    "print(os.path.isabs(os.path.abspath('.')))\n",
    "\n",
    "# 调用os.path.relpath(path,start)将返回一个从start路径到path的相对路径的字符串\n",
    "print(os.path.relpath('/Users','/Users/rivers/tkpjc/SelfLearning/AutomateTheBoringStuff/ReadWriteFiles/test'))\n",
    "\n",
    "# 调用os.path.dirname(path)将返回一个字符串，包含path参数中最后一个斜杠之前的所有内容\n",
    "# 调用os.path.basename(path)将返回一个字符串，包含path参数中最后一个斜杠之后的所有内容\n",
    "# 若同时需要一个路径的目录名称和基本名称，可以调用os.path.split()获得这两个字符串的元组\n",
    "path = '/Users/rivers/tkpjc/SelfLearning/AutomateTheBoringStuff/ReadWriteFiles/ReadWriteFiles.ipynb'\n",
    "print(os.path.dirname(path))\n",
    "print(os.path.basename(path))\n",
    "print(os.path.split(path))\n",
    "\n",
    "# os.path.sep 分割\n",
    "print(os.path.sep)\n",
    "print(os.path.split(os.path.sep))\n",
    "print('/Users/rivers/tkpjc/SelfLearning/AutomateTheBoringStuff/ReadWriteFiles/ReadWriteFiles.ipynb'.split(os.path.sep))\n"
   ]
  },
  {
   "cell_type": "code",
   "execution_count": 51,
   "metadata": {},
   "outputs": [
    {
     "name": "stdout",
     "output_type": "stream",
     "text": [
      "8834\n",
      "['Regex', 'ReadWriteFiles', '.ipynb_checkpoints']\n",
      "416\n"
     ]
    }
   ],
   "source": [
    "\"\"\"\n",
    "查看文件大小和文件内容\n",
    "author@jiangchuan 20190718\n",
    "\"\"\"\n",
    "\n",
    "import os\n",
    "\n",
    "# getsize(path)返回path参数中文件的字节数\n",
    "print(os.path.getsize('/Users/rivers/tkpjc/SelfLearning/AutomateTheBoringStuff/ReadWriteFiles/ReadWriteFiles.ipynb')) \n",
    "\n",
    "# os.listdir(path)返回path参数中的每个文件\n",
    "print(os.listdir('/Users/rivers/tkpjc/SelfLearning/AutomateTheBoringStuff'))\n",
    "\n",
    "# 计算指定文件夹下文件大小\n",
    "totalSize = 0\n",
    "for filename in os.listdir('/Users/rivers/tkpjc/SelfLearning/AutomateTheBoringStuff'):\n",
    "    totalSize = totalSize + os.path.getsize(os.path.join('/Users/rivers/tkpjc/SelfLearning/AutomateTheBoringStuff',filename))\n",
    "print(totalSize)"
   ]
  },
  {
   "cell_type": "code",
   "execution_count": null,
   "metadata": {},
   "outputs": [],
   "source": []
  }
 ],
 "metadata": {
  "kernelspec": {
   "display_name": "Python 3",
   "language": "python",
   "name": "python3"
  },
  "language_info": {
   "codemirror_mode": {
    "name": "ipython",
    "version": 3
   },
   "file_extension": ".py",
   "mimetype": "text/x-python",
   "name": "python",
   "nbconvert_exporter": "python",
   "pygments_lexer": "ipython3",
   "version": "3.7.1"
  }
 },
 "nbformat": 4,
 "nbformat_minor": 2
}
