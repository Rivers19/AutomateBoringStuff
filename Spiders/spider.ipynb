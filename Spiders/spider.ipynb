{
 "cells": [
  {
   "cell_type": "markdown",
   "metadata": {},
   "source": [
    "# 第11章 从web抓取信息\n",
    "\n",
    "#### 江川\n",
    "#### 20190721"
   ]
  },
  {
   "cell_type": "markdown",
   "metadata": {},
   "source": [
    "### 初识webbrowser、requests模块"
   ]
  },
  {
   "cell_type": "code",
   "execution_count": 1,
   "metadata": {},
   "outputs": [
    {
     "data": {
      "text/plain": [
       "True"
      ]
     },
     "execution_count": 1,
     "metadata": {},
     "output_type": "execute_result"
    }
   ],
   "source": [
    "\"\"\"\n",
    "用webbrowser模块的open()函数打开网页\n",
    "author@jiangchuan20190721\n",
    "\"\"\"\n",
    "import webbrowser\n",
    "webbrowser.open('http://inventwithpython.com')"
   ]
  },
  {
   "cell_type": "code",
   "execution_count": 4,
   "metadata": {},
   "outputs": [
    {
     "data": {
      "text/plain": [
       "True"
      ]
     },
     "execution_count": 4,
     "metadata": {},
     "output_type": "execute_result"
    }
   ],
   "source": [
    "#!/usr/bin/env python3\n",
    "# mapIt.py - Launches a map in the browser using an address from the command line or clipboard.\n",
    "import webbrowser, sys, pyperclip\n",
    "if len(sys.argv) > 1:             # 若参数个数大于\n",
    "    \n",
    "    # Get addrese from clipboard\n",
    "    address = ' '.join(sys.argv[1:])\n",
    "else:\n",
    "    # Get address from clipboard\n",
    "    address = pyperclip.paste()\n",
    "    \n",
    "webbrowser.open('https://www.google.com/map/place/' + address)"
   ]
  },
  {
   "cell_type": "code",
   "execution_count": 8,
   "metadata": {},
   "outputs": [
    {
     "name": "stdout",
     "output_type": "stream",
     "text": [
      "<class 'requests.models.Response'>\n",
      "True\n",
      "179378\n",
      "﻿The Project Gutenberg EBook of Romeo and Juliet, by William Shakespeare\n",
      "\n",
      "\n",
      "*******************************************************************\n",
      "THIS EBOOK WAS ONE OF PROJECT GUTENBERG'S EARLY FILES PRODUCED AT A\n",
      "TIME WHEN PROOFING METHODS AND TOOLS WERE NOT WELL DEVELOPED. THERE\n",
      "IS AN IMPROVED EDITION OF THIS TITLE WHICH MAY BE VIEWED AS EBOOK\n",
      "(#100) at https://www.gutenberg.org/ebooks/100\n",
      "*******************************************************************\n",
      "\n",
      "\n",
      "This eBook is for the use of anyone anywhere at no cost and with\n",
      "almost no restrictions whatsoever.  You may copy it, give it away or\n",
      "re-use it under the terms of the Project Gutenberg License included\n",
      "with this eBook or online at www.gutenberg.org/license\n",
      "\n",
      "\n",
      "Title: Romeo and Juliet\n",
      "\n",
      "Author: William Shakespeare\n",
      "\n",
      "Posting Date: May 25, 2012 [EBook #1112]\n",
      "Release Date: November, 1997  [Etext #1112]\n",
      "\n",
      "Language: English\n",
      "\n",
      "\n",
      "*** START OF THIS PROJECT GUTENBERG EBOOK ROMEO AND JULIET ***\n",
      "\n",
      "\n",
      "\n",
      "\n",
      "\n",
      "\n",
      "\n",
      "\n",
      "\n",
      "\n",
      "\n",
      "\n",
      "\n",
      "*P\n"
     ]
    }
   ],
   "source": [
    "\"\"\"\n",
    "用requests模块的get()函数从web下载一个网页\n",
    "author@jiangchuan20190721\n",
    "\"\"\"\n",
    "\n",
    "import requests\n",
    "res = requests.get('http://www.gutenberg.org/cache/epub/1112/pg1112.txt')\n",
    "print(type(res))\n",
    "print(res.status_code == requests.codes.ok)      # status_code检查请求是否成功\n",
    "print(len(res.text))\n",
    "print(res.text[:1000])                # 显示前1000个字符"
   ]
  },
  {
   "cell_type": "code",
   "execution_count": 9,
   "metadata": {},
   "outputs": [
    {
     "name": "stdout",
     "output_type": "stream",
     "text": [
      "There was a problem:404 Client Error: 404 Client Error: Not Found for url: http://xiadade.com/buzhidaodea\n"
     ]
    }
   ],
   "source": [
    "\"\"\"\n",
    "检查错误 \n",
    "author@jiangchuan20190721\n",
    "\"\"\"\n",
    "\n",
    "import requests\n",
    "res = requests.get('http://xiadade.com/buzhidaodea')\n",
    "try:\n",
    "    res.raise_for_status()\n",
    "except Exception as exc:\n",
    "    print('There was a problem:404 Client Error: %s' % (exc))\n"
   ]
  },
  {
   "cell_type": "code",
   "execution_count": 10,
   "metadata": {
    "scrolled": true
   },
   "outputs": [
    {
     "ename": "HTTPError",
     "evalue": "404 Client Error: Not Found for url: http://xiadade.com/buzhidaodea",
     "output_type": "error",
     "traceback": [
      "\u001b[0;31m---------------------------------------------------------------------------\u001b[0m",
      "\u001b[0;31mHTTPError\u001b[0m                                 Traceback (most recent call last)",
      "\u001b[0;32m<ipython-input-10-5490cd5393e5>\u001b[0m in \u001b[0;36m<module>\u001b[0;34m\u001b[0m\n\u001b[1;32m      1\u001b[0m \u001b[0;32mimport\u001b[0m \u001b[0mrequests\u001b[0m\u001b[0;34m\u001b[0m\u001b[0;34m\u001b[0m\u001b[0m\n\u001b[1;32m      2\u001b[0m \u001b[0mres\u001b[0m \u001b[0;34m=\u001b[0m \u001b[0mrequests\u001b[0m\u001b[0;34m.\u001b[0m\u001b[0mget\u001b[0m\u001b[0;34m(\u001b[0m\u001b[0;34m'http://xiadade.com/buzhidaodea'\u001b[0m\u001b[0;34m)\u001b[0m\u001b[0;34m\u001b[0m\u001b[0;34m\u001b[0m\u001b[0m\n\u001b[0;32m----> 3\u001b[0;31m \u001b[0mres\u001b[0m\u001b[0;34m.\u001b[0m\u001b[0mraise_for_status\u001b[0m\u001b[0;34m(\u001b[0m\u001b[0;34m)\u001b[0m\u001b[0;34m\u001b[0m\u001b[0;34m\u001b[0m\u001b[0m\n\u001b[0m",
      "\u001b[0;32m~/anaconda3/lib/python3.7/site-packages/requests/models.py\u001b[0m in \u001b[0;36mraise_for_status\u001b[0;34m(self)\u001b[0m\n\u001b[1;32m    938\u001b[0m \u001b[0;34m\u001b[0m\u001b[0m\n\u001b[1;32m    939\u001b[0m         \u001b[0;32mif\u001b[0m \u001b[0mhttp_error_msg\u001b[0m\u001b[0;34m:\u001b[0m\u001b[0;34m\u001b[0m\u001b[0;34m\u001b[0m\u001b[0m\n\u001b[0;32m--> 940\u001b[0;31m             \u001b[0;32mraise\u001b[0m \u001b[0mHTTPError\u001b[0m\u001b[0;34m(\u001b[0m\u001b[0mhttp_error_msg\u001b[0m\u001b[0;34m,\u001b[0m \u001b[0mresponse\u001b[0m\u001b[0;34m=\u001b[0m\u001b[0mself\u001b[0m\u001b[0;34m)\u001b[0m\u001b[0;34m\u001b[0m\u001b[0;34m\u001b[0m\u001b[0m\n\u001b[0m\u001b[1;32m    941\u001b[0m \u001b[0;34m\u001b[0m\u001b[0m\n\u001b[1;32m    942\u001b[0m     \u001b[0;32mdef\u001b[0m \u001b[0mclose\u001b[0m\u001b[0;34m(\u001b[0m\u001b[0mself\u001b[0m\u001b[0;34m)\u001b[0m\u001b[0;34m:\u001b[0m\u001b[0;34m\u001b[0m\u001b[0;34m\u001b[0m\u001b[0m\n",
      "\u001b[0;31mHTTPError\u001b[0m: 404 Client Error: Not Found for url: http://xiadade.com/buzhidaodea"
     ]
    }
   ],
   "source": [
    "import requests\n",
    "res = requests.get('http://xiadade.com/buzhidaodea')\n",
    "res.raise_for_status()"
   ]
  },
  {
   "cell_type": "markdown",
   "metadata": {},
   "source": [
    "### 下载并保存文件的过程步骤：\n",
    "1. 调用requests.get()下载该文件\n",
    "2. 用wb调用open()，以二进制的方式打开一个新文件\n",
    "3. 用Response对象的iter_content()方法做循环\n",
    "4. 在每次迭代中调用write()，将内容写入该文件\n",
    "5. 调用close()关闭文件"
   ]
  },
  {
   "cell_type": "code",
   "execution_count": 11,
   "metadata": {},
   "outputs": [],
   "source": [
    "\"\"\"\n",
    "将下载的文件保存到硬盘\n",
    "author@jiangchuan20190721\n",
    "\"\"\"\n",
    "\n",
    "import requests\n",
    "res = requests.get('http://www.gutenberg.org/cache/epub/1112/pg1112.txt')\n",
    "\n",
    "# 检查错误\n",
    "try:\n",
    "    res.raise_for_status()\n",
    "except Exception as exc:\n",
    "    print('There was a problem:404 Client Error: %s' % (exc))\n",
    "\n",
    "# 写入新文件\n",
    "playFile = open('RomeoAndJuliet.txt', 'wb')\n",
    "\n",
    "# iter_content()方法在循环的每次迭代中，返回一段内容。每段都是bytes数据类型，需要指定一段包含多少字节（此处是每段包含10万字节）\n",
    "for chunk in res.iter_content(100000):\n",
    "    playFile.write(chunk)\n",
    "playFile.close()"
   ]
  },
  {
   "cell_type": "markdown",
   "metadata": {},
   "source": [
    "### 从HTML创建一个BeautifulSoup对象"
   ]
  },
  {
   "cell_type": "code",
   "execution_count": 3,
   "metadata": {},
   "outputs": [
    {
     "name": "stdout",
     "output_type": "stream",
     "text": [
      "<class 'bs4.BeautifulSoup'>\n"
     ]
    }
   ],
   "source": [
    "\"\"\"\n",
    "BeautifulSoup模块解析HTML\n",
    "author@jiangchuan20190721\n",
    "\"\"\"\n",
    "\n",
    "import requests, bs4\n",
    "res = requests.get('http://baidu.com')\n",
    "res.raise_for_status()\n",
    "noStarchSoup = bs4.BeautifulSoup(res.text)\n",
    "print(type(noStarchSoup))"
   ]
  },
  {
   "cell_type": "code",
   "execution_count": 4,
   "metadata": {},
   "outputs": [
    {
     "name": "stdout",
     "output_type": "stream",
     "text": [
      "<class 'bs4.BeautifulSoup'>\n"
     ]
    }
   ],
   "source": [
    "import requests, bs4\n",
    "exampleFile = open('example.html')\n",
    "exampleSoup = bs4.BeautifulSoup(exampleFile)\n",
    "print(type(exampleSoup))"
   ]
  },
  {
   "cell_type": "markdown",
   "metadata": {},
   "source": [
    "### 用select()方法寻找元素 \n",
    "```\n",
    "传递给select()方法的选择器             将匹配\n",
    "\n",
    "soup.select('div')                  所有名为<div>的元素\n",
    "soup.select('#author')              带有id属性的author的元素\n",
    "soup.select('.notice')              所有使用CSS class 属性名为notice的元素\n",
    "soup.select('div span')             所有在<div>元素内的<span>元素\n",
    "soup.select('div > span')           所有直接在<div>元素之内<span>元素，中间没有其他元素\n",
    "soup.select('input[name]')          所有名为<input> ，并有一个name属性，其值无所谓的元素\n",
    "soup.select('input[type=\"button\"]') 所有名为<input>,并有一个type属性，其值为button的元素\n",
    "```"
   ]
  },
  {
   "cell_type": "code",
   "execution_count": 7,
   "metadata": {},
   "outputs": [
    {
     "name": "stdout",
     "output_type": "stream",
     "text": [
      "[<span id=\"author\">Al Sweigart</span>]\n",
      "<class 'list'>\n",
      "1\n",
      "<class 'bs4.element.Tag'>\n",
      "Al Sweigart\n",
      "<span id=\"author\">Al Sweigart</span>\n",
      "{'id': 'author'}\n"
     ]
    }
   ],
   "source": [
    "import bs4\n",
    "exampleFile = open('example.html')\n",
    "exampleSoup = bs4.BeautifulSoup(exampleFile.read())\n",
    "elems = exampleSoup.select('#author')                 # 将带有id=‘author’的元素，从示例HTML中找出来\n",
    "\n",
    "print(elems)\n",
    "print(type(elems))\n",
    "print(len(elems))\n",
    "print(type(elems[0]))\n",
    "print(elems[0].getText())                        # getText()方法返回该元素的文本或内部HTML（一个元素的文本：在开始和结束标签之间的内容）\n",
    "print(str(elems[0]))                             # 将该元素传递给str()，将返回一个字符串，其中包含开始和结束标签以及该元素的文本\n",
    "print(elems[0].attrs)                            # attrs给我们一个字典，包含该元素的属性‘id’，以及id属性的值‘author’"
   ]
  },
  {
   "cell_type": "code",
   "execution_count": 8,
   "metadata": {},
   "outputs": [
    {
     "name": "stdout",
     "output_type": "stream",
     "text": [
      "<p>Download my <strong>Python</strong> book from <a href=\"http://inventwithpython.com\">my website</a>.</p>\n",
      "Download my Python book from my website.\n",
      "<p class=\"slogan\">Learn Python the easy way!</p>\n",
      "Learn Python the easy way!\n",
      "<p>By <span id=\"author\">Al Sweigart</span></p>\n",
      "By Al Sweigart\n"
     ]
    }
   ],
   "source": [
    "import bs4\n",
    "exampleFile = open('example.html')\n",
    "exampleSoup = bs4.BeautifulSoup(exampleFile.read())\n",
    "pElems = exampleSoup.select('p')\n",
    "\n",
    "print(str(pElems[0]))\n",
    "print(pElems[0].getText())\n",
    "print(str(pElems[1]))\n",
    "print(pElems[1].getText())\n",
    "print(str(pElems[2]))\n",
    "print(pElems[2].getText())"
   ]
  },
  {
   "cell_type": "markdown",
   "metadata": {},
   "source": [
    "### 通过元素的属性获取数据"
   ]
  },
  {
   "cell_type": "code",
   "execution_count": 10,
   "metadata": {},
   "outputs": [
    {
     "name": "stdout",
     "output_type": "stream",
     "text": [
      "<span id=\"author\">Al Sweigart</span>\n",
      "author\n",
      "True\n",
      "{'id': 'author'}\n"
     ]
    }
   ],
   "source": [
    "import bs4\n",
    "soup = bs4.BeautifulSoup(open('example.html'))\n",
    "spanElem = soup.select('span')[0]\n",
    "\n",
    "print(str(spanElem))\n",
    "print(spanElem.get('id'))\n",
    "print(spanElem.get('some_nonexistent_addr')== None)\n",
    "print(spanElem.attrs)"
   ]
  },
  {
   "cell_type": "markdown",
   "metadata": {},
   "source": [
    "### “I'm Feeling Lucky” Google查找\n",
    "\n",
    "\n",
    "#### 程序要做的事：\n",
    "- 从命令行参数中获取查询关键字\n",
    "- 取得查询结果页面\n",
    "- 为每个结果打开一个浏览器选项卡\n",
    "\n",
    "#### 意味着需要完成以下工作：\n",
    "- 从sys.argv中读取命令行参数\n",
    "- 用requests模块去得查询结果页面\n",
    "- 找到每个查询结果的链接\n",
    "- 调用webbrowser.open()函数打开web浏览器\n",
    "\n",
    "打开一个新的文件编辑器窗口，并保存为lucky.py"
   ]
  },
  {
   "cell_type": "code",
   "execution_count": 2,
   "metadata": {},
   "outputs": [
    {
     "name": "stdout",
     "output_type": "stream",
     "text": [
      "Object `sum()` not found.\n"
     ]
    }
   ],
   "source": [
    "?sum()"
   ]
  },
  {
   "cell_type": "code",
   "execution_count": null,
   "metadata": {},
   "outputs": [],
   "source": []
  }
 ],
 "metadata": {
  "kernelspec": {
   "display_name": "Python 3",
   "language": "python",
   "name": "python3"
  },
  "language_info": {
   "codemirror_mode": {
    "name": "ipython",
    "version": 3
   },
   "file_extension": ".py",
   "mimetype": "text/x-python",
   "name": "python",
   "nbconvert_exporter": "python",
   "pygments_lexer": "ipython3",
   "version": "3.7.1"
  }
 },
 "nbformat": 4,
 "nbformat_minor": 2
}
