{
 "cells": [
  {
   "cell_type": "code",
   "execution_count": 3,
   "metadata": {},
   "outputs": [
    {
     "name": "stdout",
     "output_type": "stream",
     "text": [
      "Phone number found:415-555-4242\n"
     ]
    }
   ],
   "source": [
    "\"\"\"\n",
    "利用正则表达式在字符串中查找电话号码的函数\n",
    "author@jiangchuan 20190717\n",
    "\"\"\"\n",
    "\n",
    "\"\"\"\n",
    "Python 中使用正则表达式的几个步骤：\n",
    "1. 用import re导入正则表达式模块\n",
    "2. 用re.compile（）函数创建一个Regex对象（记得使用原始字符串）\n",
    "3. 向Regex对象的search()方法传入想查找的字符串。返回一个Match对象\n",
    "4. 调用Match对象的group()方法，返回实际匹配文本的字符串\n",
    "\"\"\"\n",
    "import re\n",
    "phoneNumRegex01 = re.compile(r'\\d\\d\\d-\\d\\d\\d-\\d\\d\\d\\d')\n",
    "\n",
    "mo = phoneNumRegex01.search('My number is 415-555-4242.')\n",
    "print('Phone number found:' + mo.group())\n",
    "\n",
    "\n"
   ]
  },
  {
   "cell_type": "code",
   "execution_count": 6,
   "metadata": {},
   "outputs": [
    {
     "name": "stdout",
     "output_type": "stream",
     "text": [
      "我的电话号码是415-555-4242\n",
      "My number is 415-555-4242\n",
      "区号是415\n",
      "第二个分组是555-4242\n"
     ]
    }
   ],
   "source": [
    "\"\"\"\n",
    "利用括号分组\n",
    "author@jiangchuan 20190717\n",
    "\n",
    "group()或group(0)表示整个匹配的字符串\n",
    "如果需要匹配括号，则需注意使用转义符 \\( \\)\n",
    "\"\"\"\n",
    "import re\n",
    "phoneNumRegex02 = re.compile(r'(\\d\\d\\d)-(\\d\\d\\d-\\d\\d\\d\\d)')\n",
    "mo = phoneNumRegex02.search('my number is 415-555-4242.')\n",
    "print('我的电话号码是' + mo.group(0))\n",
    "print('My number is ' + mo.group())\n",
    "print('区号是' + mo.group(1))\n",
    "print('第二个分组是' + mo.group(2))\n"
   ]
  },
  {
   "cell_type": "code",
   "execution_count": 10,
   "metadata": {},
   "outputs": [
    {
     "data": {
      "text/plain": [
       "'mobile'"
      ]
     },
     "execution_count": 10,
     "metadata": {},
     "output_type": "execute_result"
    }
   ],
   "source": [
    "\"\"\"\n",
    "用管道匹配多个分组\n",
    "author@jiangchuan 20190717\n",
    "\n",
    "|成为管道，希望匹配多个表达式中的一个时，可以使用管道   例如，正则表达式r'Batman|Tina Fey‘ 将匹配Batman或者Tina Fey\n",
    "如果，Batman 和 Tina Fey都出现在被查找的字符串中，第一次出现的匹配文本将作为Match对象返回\n",
    "\"\"\"\n",
    "import re\n",
    "batRegex01 = re.compile(r'Bat(man|mobile|copter|bat)')\n",
    "mo = batRegex01.search('Batmobile lost a wheel')\n",
    "mo.group()\n",
    "mo.group(1)"
   ]
  },
  {
   "cell_type": "code",
   "execution_count": 27,
   "metadata": {},
   "outputs": [
    {
     "name": "stdout",
     "output_type": "stream",
     "text": [
      "Batman\n",
      "Batwoman\n"
     ]
    }
   ],
   "source": [
    "\"\"\"\n",
    "用问号实现可选匹配\n",
    "author@jiangchuan 20190717\n",
    "\n",
    "想匹配的模式是可选的，即不论这段文本在与不在，正则表达式都会认为匹配\n",
    "字符？表示在它前面的分组在这个模式中是可选的\n",
    "可以认为？是在说，匹配这个问号之前的分组零次或者一次\n",
    "\"\"\"\n",
    "import re\n",
    "batRegex02 = re.compile(r'Bat(wo)?man')\n",
    "\n",
    "mo = batRegex02.search('The Adventures of Batman')\n",
    "print(mo.group())\n",
    "\n",
    "mo1 = batRegex02.search('The Adventures of Batwoman')\n",
    "print(mo1.group())"
   ]
  },
  {
   "cell_type": "code",
   "execution_count": 28,
   "metadata": {},
   "outputs": [
    {
     "name": "stdout",
     "output_type": "stream",
     "text": [
      "Batman\n",
      "Batwoman\n",
      "Batwowowowoman\n"
     ]
    }
   ],
   "source": [
    "\"\"\"\n",
    "用星号匹配零次或多次\n",
    "author@jiangchuan 20190717\n",
    "\n",
    "*之前的分组，可以在文本中出现任意次。它可以完全不存在或在一次次地重复\n",
    "\"\"\"\n",
    "import re\n",
    "batRegex03 = re.compile(r'Bat(wo)*man')\n",
    "\n",
    "mo = batRegex03.search('The Adventures of Batman')\n",
    "print(mo.group())\n",
    "\n",
    "mo1 = batRegex03.search('The Adventures of Batwoman')\n",
    "print(mo1.group())\n",
    "\n",
    "mo2 = batRegex03.search('The Adventures of Batwowowowoman')\n",
    "print(mo2.group())"
   ]
  },
  {
   "cell_type": "code",
   "execution_count": 30,
   "metadata": {},
   "outputs": [
    {
     "name": "stdout",
     "output_type": "stream",
     "text": [
      "Batwoman\n",
      "Batwowowowowoman\n",
      "True\n"
     ]
    }
   ],
   "source": [
    "\"\"\"\n",
    "用加号匹配一次或者多次\n",
    "author@jiangchuan 20190717\n",
    "\n",
    "*意味着匹配零次或者多次\n",
    "+意味着匹配一次或者多次\n",
    "*不要求分组出现在匹配的字符串中\n",
    "+前面的分组必须至少出现一次\n",
    "\"\"\"\n",
    "import re\n",
    "batRegex04 = re.compile(r'Bat(wo)+man')\n",
    "\n",
    "mo = batRegex04.search('The Adventures of Batwoman')\n",
    "print(mo.group())\n",
    "\n",
    "mo1 = batRegex04.search('The Adventures of Batwowowowowoman')\n",
    "print(mo1.group())\n",
    "\n",
    "mo2 = batRegex04.search('The Adventures of Batman')\n",
    "print(mo2 == None)"
   ]
  },
  {
   "cell_type": "code",
   "execution_count": 35,
   "metadata": {},
   "outputs": [
    {
     "name": "stdout",
     "output_type": "stream",
     "text": [
      "HaHaHa\n",
      "True\n"
     ]
    }
   ],
   "source": [
    "\"\"\"\n",
    "用花括号匹配特定次数\n",
    "author@jiangchuan 20190717\n",
    "\n",
    "如果想要一个分组重复特定次数，就在正则表达式中该分组的后面，跟上花括号包围的数字\n",
    "（Ha){3}将匹配‘HaHaHa’，但不会匹配‘HaHa’，因为后者只重复了Ha两次\n",
    "\"\"\"\n",
    "import re\n",
    "haRegex = re.compile(r'(Ha){3}')\n",
    "mo1 = haRegex.search('HaHaHaHa')\n",
    "print(mo1.group())\n",
    "\n",
    "mo2 = haRegex.search('Ha')\n",
    "print(mo2 == None)"
   ]
  },
  {
   "cell_type": "code",
   "execution_count": 38,
   "metadata": {},
   "outputs": [
    {
     "name": "stdout",
     "output_type": "stream",
     "text": [
      "hahahahaha\n",
      "hahaha\n"
     ]
    }
   ],
   "source": [
    "\"\"\"\n",
    "贪心和非贪心匹配\n",
    "author@jiangchuan 20190717\n",
    "\n",
    "如果想要一个分组重复特定次数，就在正则表达式中该分组的后面，跟上花括号包围的数字\n",
    "（Ha){3}将匹配‘HaHaHa’，但不会匹配‘HaHa’，因为后者只重复了Ha两次\n",
    "\"\"\"\n",
    "import re\n",
    "greedyHaRegex = re.compile(r'(ha){3,5}')\n",
    "mo1 = greedyHaRegex.search('hahahahaha')\n",
    "print(mo1.group())\n",
    "\n",
    "# 在字符串hahahahaha中，因为(ha){3,5}会匹配3个、4个或5个实例\n",
    "# python正则表达式默认是“贪心”的，在二义情况下，会尽可能匹配最长的字符串。\n",
    "# 非贪心的花括号尽可能匹配最短的字符串，在结束的花括号后面紧跟一个问号即可\n",
    "\n",
    "nogreedyHaRegex = re.compile(r'(ha){3,5}?')\n",
    "mo2 = nogreedyHaRegex.search('hahahahaha')\n",
    "print(mo2.group())"
   ]
  },
  {
   "cell_type": "code",
   "execution_count": 47,
   "metadata": {},
   "outputs": [
    {
     "name": "stdout",
     "output_type": "stream",
     "text": [
      "415-555-9999\n",
      "['415-555-9999', '212-555-0000']\n",
      "[('415', '555', '9999'), ('212', '555', '0000')]\n"
     ]
    }
   ],
   "source": [
    "\"\"\"\n",
    "findall()方法\n",
    "author@jiangchuan 20190717\n",
    "\n",
    "\n",
    "\"\"\"\n",
    "import re\n",
    "phoneNumRegex = re.compile(r'\\d\\d\\d-\\d\\d\\d-\\d\\d\\d\\d') # 没有分组\n",
    "mo = phoneNumRegex.search('Cell: 415-555-9999 Work:212-555-0000')\n",
    "print(mo.group())\n",
    "\n",
    "mo1 = phoneNumRegex.findall('Cell: 415-555-9999 Work:212-555-0000')\n",
    "print(mo1)\n",
    "\n",
    "# 如果正则表达式中有分组，那么findall将返回元组的列表，。每个元组表示一个找到的匹配，其中的项就是正则表达式中每个分组的匹配字符串\n",
    "phoneNumRegex1 = re.compile(r'(\\d\\d\\d)-(\\d\\d\\d)-(\\d\\d\\d\\d)')\n",
    "mo2 = phoneNumRegex1.findall('Cell: 415-555-9999 Work:212-555-0000')\n",
    "print(mo2)"
   ]
  },
  {
   "cell_type": "code",
   "execution_count": 49,
   "metadata": {},
   "outputs": [
    {
     "data": {
      "text/plain": [
       "'\\n字符分类\\nauthor@jiangchuan 20190717\\n\\n\\\\d 0-9任意数字\\n\\\\D 除0-9外的任何字符\\n\\\\w 任何字母、数字或者下划线字符（可认为是匹配“单词”字符）\\n\\n\\n'"
      ]
     },
     "execution_count": 49,
     "metadata": {},
     "output_type": "execute_result"
    }
   ],
   "source": [
    "\"\"\"\n",
    "字符分类\n",
    "author@jiangchuan 20190717\n",
    "\n",
    "\\d 0-9任意数字\n",
    "\\D 除0-9外的任何字符\n",
    "\\w 任何字母、数字或者下划线字符（可认为是匹配“单词”字符）\n",
    "\\W 除字母、数字和下划线以外的任何字符\n",
    "\\s 空格、制表符或换行符（可以认为是匹配“空白”字符）\n",
    "\\S 除空格、制表符和换行符以外的任何字符\n",
    "\"\"\""
   ]
  },
  {
   "cell_type": "code",
   "execution_count": 52,
   "metadata": {},
   "outputs": [
    {
     "name": "stdout",
     "output_type": "stream",
     "text": [
      "['o', 'o', 'o', 'e', 'a', 'a', 'o', 'o', 'A', 'O', 'O']\n",
      "['R', 'b', 'C', 'p', ' ', 't', 's', ' ', 'b', 'b', 'y', ' ', 'f', 'd', '.', ' ', 'B', 'B', 'Y', ' ', 'F', 'D', '.']\n"
     ]
    }
   ],
   "source": [
    "\"\"\"\n",
    "创建自己的字符分类\n",
    "author@jiangchuan 20190717\n",
    "\n",
    "方括号[]自定义自己的字符分类\n",
    "[aeiouAEIOU]将匹配所有的元音字符，不论大小写\n",
    "[^aeiouAEIOU]则表示非元音字符（除元音字符外的所有字符）\n",
    "[a-zA-Z0-9]则将匹配所有的小写字母、大写字母和数字\n",
    "\n",
    "\"\"\"\n",
    "import re\n",
    "vowelRegex = re.compile(r'[aeiouAEIOU]') # [aeiouAEIOU]将匹配所有的元音字符，不论大小写\n",
    "mo1 = vowelRegex.findall('RoboCop eats baby food. BABY FOOD.')\n",
    "print(mo1)\n",
    "\n",
    "consonantRegex = re.compile(r'[^aeiouAEIOU]') # ^表示非，^aeiouAEIOU则表示非元音字符（除元音字符外的所有字符）\n",
    "mo2 = consonantRegex.findall('RoboCop eats baby food. BABY FOOD.')\n",
    "print(mo2)\n"
   ]
  },
  {
   "cell_type": "code",
   "execution_count": 1,
   "metadata": {},
   "outputs": [
    {
     "name": "stdout",
     "output_type": "stream",
     "text": [
      "<re.Match object; span=(0, 5), match='hello'>\n",
      "True\n",
      "<re.Match object; span=(16, 17), match='3'>\n",
      "False\n"
     ]
    }
   ],
   "source": [
    "\"\"\"\n",
    "插入字符和美元字符\n",
    "author@jiangchuan 20190717\n",
    "\n",
    "正则表达式的开始处使用插入符号^ 表明匹配必须发生在被查找文本开始处\n",
    "正则表达式的末尾处使用美元符号$ 表明该字符串必须以这个正则表达式的模式结束\n",
    "同时使用^ 和 $则表明整个字符串必须匹配该模式，只匹配该字符串的某个子集是不够的\n",
    "\"\"\"\n",
    "import re\n",
    "beginWithHello = re.compile(r'^hello') # 插入符号^\n",
    "mo = beginWithHello.search('hello world!')\n",
    "print(mo)\n",
    "print(beginWithHello.search('he said hello.') == None)\n",
    "\n",
    "endsWithNumber = re.compile(r'\\d$')\n",
    "mo1 = endsWithNumber.search('Your number is 43')\n",
    "print(mo1)\n",
    "print(endsWithNumber.search('Your number is 43')== None)"
   ]
  },
  {
   "cell_type": "code",
   "execution_count": 2,
   "metadata": {},
   "outputs": [
    {
     "name": "stdout",
     "output_type": "stream",
     "text": [
      "['cat', 'hat', 'sat', 'lat', 'mat']\n"
     ]
    }
   ],
   "source": [
    "\"\"\"\n",
    "通配字符\n",
    "author@jiangchuan 20190718\n",
    "\n",
    "通配符：句点.   匹配除换行之外的所有字符（注意，句点符号只匹配一个字符）\n",
    "\"\"\"\n",
    "import re\n",
    "atRegex = re.compile(r'.at')\n",
    "mo = atRegex.findall('The cat in the hat sat on the flat mat')\n",
    "print(mo)"
   ]
  },
  {
   "cell_type": "code",
   "execution_count": 4,
   "metadata": {},
   "outputs": [
    {
     "name": "stdout",
     "output_type": "stream",
     "text": [
      " AI \n",
      "Sweigart\n",
      "AI is this AI\n",
      "AI is this AI,not that AI\n"
     ]
    }
   ],
   "source": [
    "\"\"\"\n",
    "点-星匹配所有字符\n",
    "author@jiangchuan 20190718\n",
    "\n",
    "(.*)表示 任意文本\n",
    "点星使用“贪心”模式：它总是匹配尽可能多的文本。\n",
    "使用非贪心模式匹配模式，就使用点星问号\n",
    "\n",
    ".表示除换行外所有单个字符\n",
    "*表示前面字符出现零次或多次\n",
    ".*匹配出换行外所有字符\n",
    "\"\"\"\n",
    "import re\n",
    "nameRegex = re.compile(r'First Name:(.*)Last Name:(.*)')\n",
    "mo = nameRegex.search('First Name: AI Last Name:Sweigart')\n",
    "print(mo.group(1))\n",
    "print(mo.group(2))\n",
    "\n",
    "nongreedyRegex = re.compile(r'AI.*?AI')  # 非贪心模式\n",
    "mo1 = nongreedyRegex.search('AI is this AI,not that AI')\n",
    "print(mo1.group())\n",
    "\n",
    "greedyRegex = re.compile(r'AI.*AI')   # 贪心模式\n",
    "mo2 = greedyRegex.search('AI is this AI,not that AI')\n",
    "print(mo2.group())"
   ]
  },
  {
   "cell_type": "code",
   "execution_count": 7,
   "metadata": {},
   "outputs": [
    {
     "name": "stdout",
     "output_type": "stream",
     "text": [
      "Serve the public trust.\n",
      "Serve the public trust.\n",
      "Pretect the innocent.\n",
      "Uphold the law.\n"
     ]
    }
   ],
   "source": [
    "\"\"\"\n",
    "句点字符匹配换行\n",
    "author@jiangchuan 20190718\n",
    "\n",
    ".*匹配出换行外所有字符\n",
    "传入re.DOTALL作为re.compile()的第二个参数，可以让句点字符匹配所有字符，包括换行符\n",
    "\"\"\"\n",
    "import re\n",
    "noNewlineRegex = re.compile(r'.*')\n",
    "mo1 = noNewlineRegex.search('Serve the public trust.\\nPretect the innocent.\\nUphold the law.').group() # 匹配所有字符直至第一个换行符\n",
    "print(mo1)\n",
    "\n",
    "newLineRegex1 = re.compile(r'.*', re.DOTALL)\n",
    "mo2 = newLineRegex1.search('Serve the public trust.\\nPretect the innocent.\\nUphold the law.').group() # 匹配所有字符\n",
    "print(mo2)"
   ]
  },
  {
   "cell_type": "code",
   "execution_count": 9,
   "metadata": {},
   "outputs": [
    {
     "name": "stdout",
     "output_type": "stream",
     "text": [
      "RoboCop ROBOCOP robocop\n"
     ]
    }
   ],
   "source": [
    "\"\"\"\n",
    "不区分大小写的匹配\n",
    "author@jiangchuan 20190718\n",
    "\n",
    "向re.compile()传入re.IGNORECASE 或 re.I 作为第二个参数\n",
    "\"\"\"\n",
    "import re\n",
    "robocop = re.compile(r'robocop', re.I)\n",
    "mo1 = robocop.search('RoboCop is part man, part machine, all cop').group()\n",
    "mo2 = robocop.search('ROBOCOP protects the innocent.').group()\n",
    "mo3 = robocop.search('AI, why dose your programming book talk about robocop so much?').group()\n",
    "\n",
    "print(mo1, mo2, mo3)"
   ]
  },
  {
   "cell_type": "code",
   "execution_count": 11,
   "metadata": {},
   "outputs": [
    {
     "name": "stdout",
     "output_type": "stream",
     "text": [
      "CENSORED gave the secert documents to CENSORED.\n",
      "Agent Alice told Agent Carol that Agent Eve knew Agent BOb was a double agent.\n"
     ]
    }
   ],
   "source": [
    "\"\"\"\n",
    "sub()方法替换字符串\n",
    "author@jiangchuan 20190718\n",
    "\n",
    "sub()方法需要传入两个参数，第一个参数是一个字符串，用于替换发现的匹配；第二个参数是一个字符串，用于正则表达式匹配的内容。\n",
    "sub()方法返回替换完成后的字符串\n",
    "在sub()第一个参数中，可以输入\\1  \\2  \\3 ......表示在替换中输入分组1、2、3......的文本\n",
    "\n",
    "\"\"\"\n",
    "import re\n",
    "nameRegex = re.compile(r'Agent \\w+')\n",
    "mo1 = nameRegex.sub('CENSORED','Agent Alice gave the secert documents to Agent Bob.')\n",
    "\n",
    "agentRegex = re.compile(r'Agent(\\w)\\w*')\n",
    "mo2 = agentRegex.sub(r'\\1****','Agent Alice told Agent Carol that Agent Eve knew Agent BOb was a double agent.')\n",
    "\n",
    "print(mo1)\n",
    "print(mo2)"
   ]
  },
  {
   "cell_type": "code",
   "execution_count": 14,
   "metadata": {},
   "outputs": [
    {
     "name": "stdout",
     "output_type": "stream",
     "text": [
      "Copied to clipboard:\n",
      "info@nostarch.com\n",
      "media@nostarch.com\n",
      "academic@nostarch.com\n",
      "info@nostarch.com\n"
     ]
    }
   ],
   "source": [
    "\"\"\"\n",
    "管理复杂的正则表达式\n",
    "author@jiangchuan 20190718\n",
    "\n",
    "向re.compile()传入变量re.VERBOSE 作为第二个参数; 从而可以添加#注释\n",
    "\"\"\"\n",
    "\n",
    "import re, pyperclip\n",
    "\n",
    "# 电话号码正则表达式\n",
    "phoneRegex  = re.compile(r'''(\n",
    "    (\\d{3}|\\(\\d{3}\\))？          # area code\n",
    "    (\\s|-|\\.)?                  # separator\n",
    "    (\\d{3})                     # first 3 digits\n",
    "    (\\s|-|\\.)                   # separator\n",
    "    (\\d{4})                     # last 4 digits\n",
    "    (\\s*(ext|x|ext\\.)\\s*(\\d{2,5}))?  # extension\n",
    "    )''', re.VERBOSE)\n",
    "\n",
    "# 电子邮箱正则表达式\n",
    "emailRegex = re.compile(r'''(\n",
    "    [a-zA-Z0-9._%+-]+           # username\n",
    "    @                           # @ symbol\n",
    "    [a-zA-Z0-9.-]+              # domain name\n",
    "    (\\.[a-zA-Z]{2,4})           # dot-something\n",
    "    )''', re.VERBOSE)\n",
    "\n",
    "# 剪贴板文本中找到匹配\n",
    "text = str(pyperclip.paste())\n",
    "matches = []                                                     # 所有的匹配保存在matches的列表变量中\n",
    "for groups in phoneRegex.findall(text):\n",
    "    phoneNum = '-'.join([groups[1], groups[3], groups[5]])       # phoneNum变量包含一个字符串，由匹配文本的分组1、3、5和8构成（这些分组分别是区号、前3个数字、后4个数字和分机号）\n",
    "    if groups[8] != '':\n",
    "        phoneNum += ' x' + groups[8]\n",
    "    matches.append(phoneNum)\n",
    "for groups in emailRegex.findall(text):\n",
    "    matches.append(groups[0])\n",
    "    \n",
    "# 所有匹配连接成一个字符串，复制到剪贴板\n",
    "if len(matches) > 0:\n",
    "    pyperclip.copy('\\n'.join(matches))                   # pyperclip.copy()函数只接收一个字符串值，而非字符串列表，故而在matches上使用了join()方法\n",
    "    print('Copied to clipboard:')\n",
    "    print('\\n'.join(matches))\n",
    "else:\n",
    "    print('No phone numbers or email addresses found.')\n"
   ]
  }
 ],
 "metadata": {
  "kernelspec": {
   "display_name": "Python 3",
   "language": "python",
   "name": "python3"
  },
  "language_info": {
   "codemirror_mode": {
    "name": "ipython",
    "version": 3
   },
   "file_extension": ".py",
   "mimetype": "text/x-python",
   "name": "python",
   "nbconvert_exporter": "python",
   "pygments_lexer": "ipython3",
   "version": "3.7.1"
  }
 },
 "nbformat": 4,
 "nbformat_minor": 2
}
