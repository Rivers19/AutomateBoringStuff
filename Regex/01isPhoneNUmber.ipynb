{
 "cells": [
  {
   "cell_type": "code",
   "execution_count": 1,
   "metadata": {
    "scrolled": true
   },
   "outputs": [
    {
     "name": "stdout",
     "output_type": "stream",
     "text": [
      "414-555-4532 is a phone number :\n",
      "True\n",
      "hello hello is a phone number:\n",
      "False\n"
     ]
    }
   ],
   "source": [
    "\"\"\"\n",
    "定义一个在字符串中查找电话号码的函数\n",
    "author@jiangchuan 20190717\n",
    "\"\"\"\n",
    "\n",
    "def isPhoneNumber(text):\n",
    "    if len(text) != 12:\n",
    "        return False\n",
    "    for i in range(0, 3):\n",
    "        if not text[i].isdecimal():\n",
    "            return False\n",
    "    if text[3] != '-':\n",
    "        return False\n",
    "    for i in range(4, 7):\n",
    "        if not text[i].isdecimal():\n",
    "            return False\n",
    "    if text[7] != '-':\n",
    "        return False\n",
    "    for i in range(8, 12):\n",
    "        if not text[i].isdecimal():\n",
    "            return False\n",
    "    return True\n",
    "\n",
    "print('414-555-4532 is a phone number :')\n",
    "print(isPhoneNumber('414-555-4532'))\n",
    "print('hello hello is a phone number:')\n",
    "print(isPhoneNumber('hello hello'))"
   ]
  },
  {
   "cell_type": "code",
   "execution_count": 2,
   "metadata": {},
   "outputs": [
    {
     "name": "stdout",
     "output_type": "stream",
     "text": [
      "Phone number found:415-555-1011\n",
      "Phone number found:415-555-9999\n",
      "Done\n"
     ]
    }
   ],
   "source": [
    "\"\"\"\n",
    "在for循环的每一次迭代中，取自message的一段新的12个字符被赋给变量chunk。\n",
    "将chunk传递给isPhoneNumber()，看是否符合电话号码的模式，如果符合则打印这段文字。\n",
    "继续遍历message，最终chunk中的12个字符会是一个电话号码。该循环遍历了整个字符串，测试了每一段12个字符，打印了所有满足isPhoneNumber()的chunk\n",
    "\n",
    "使用正则表达式查找电话号码的类似程序和本程序一样，运行也不会超过1秒钟，但是正则表达式编写更快捷\n",
    "\"\"\"\n",
    "message = 'Call me at 415-555-1011 tomorrow. 415-555-9999 is my offfice.'\n",
    "for i in range(len(message)):\n",
    "    chunk = message[i: i+12]\n",
    "    if isPhoneNumber(chunk):\n",
    "        print('Phone number found:' + chunk)\n",
    "print('Done')"
   ]
  },
  {
   "cell_type": "code",
   "execution_count": null,
   "metadata": {},
   "outputs": [],
   "source": []
  }
 ],
 "metadata": {
  "kernelspec": {
   "display_name": "Python 3",
   "language": "python",
   "name": "python3"
  },
  "language_info": {
   "codemirror_mode": {
    "name": "ipython",
    "version": 3
   },
   "file_extension": ".py",
   "mimetype": "text/x-python",
   "name": "python",
   "nbconvert_exporter": "python",
   "pygments_lexer": "ipython3",
   "version": "3.7.1"
  }
 },
 "nbformat": 4,
 "nbformat_minor": 2
}
