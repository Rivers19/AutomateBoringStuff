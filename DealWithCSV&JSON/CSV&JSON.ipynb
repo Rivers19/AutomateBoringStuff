{
 "cells": [
  {
   "cell_type": "markdown",
   "metadata": {},
   "source": [
    "# 第14章  处理CSV文件和JSON数据\n",
    "\n",
    "- CSV和JSON：纯文本文件，可以用文本编辑器进行查看\n",
    "- Python有专门的csv和json模块\n",
    "- CSV：Comma Separated Values  逗号分隔的值。\n",
    "    - CSV文件中每行代表电子表格中的一行，逗号分割了该行中的单元格\n",
    "    - CSV文件是简单的，缺少Excel电子表格的许多功能：\n",
    "        - 值没有类型，所有东西都是字符串\n",
    "        - 没有字体大小或颜色的设置\n",
    "        - 没有多个工作表\n",
    "        - 不能指定单元格的宽度和高度\n",
    "        - 不能合并单元格\n",
    "        - 不能嵌入图像或图表\n",
    "- JSON：JavaScript Object Notation"
   ]
  },
  {
   "cell_type": "markdown",
   "metadata": {},
   "source": [
    "## csv模块"
   ]
  },
  {
   "cell_type": "markdown",
   "metadata": {},
   "source": [
    "### Reader对象\n",
    "- csv模块是Python自带的，无需安装\n",
    "- open()函数打开CSV文件\n",
    "- 不用在open()返回的File对象上调用read()或readlines()方法，而是将它传递给csv.reader()函数\n",
    "- 不能直接将文件名字符串传递给csv.reader()函数\n",
    "- 要访问Reader对象中的函数，直接将它转换成一个普通的Python列表，即将它传递给list()"
   ]
  },
  {
   "cell_type": "code",
   "execution_count": 7,
   "metadata": {},
   "outputs": [
    {
     "name": "stdout",
     "output_type": "stream",
     "text": [
      "[['4/5/2014 13:34', 'Apples', '73'], ['4/5/2014 3:41', 'Cherries', '85'], ['4/6/2014 12:46', 'Pears', '14'], ['4/8/2014 8:59', 'Oranges', '52'], ['4/10/2014 2:07', 'Apples', '152'], ['4/10/2014 18:10', 'Bananas', '23'], ['4/10/2014 2:40', 'Strawberries', '98']]\n",
      "4/5/2014 13:34\n",
      "Apples\n",
      "73\n",
      "4/5/2014 3:41\n"
     ]
    }
   ],
   "source": [
    "import csv\n",
    "exampleFile = open('example.csv')\n",
    "exampleReader = csv.reader(exampleFile)\n",
    "exampleData = list(exampleReader)\n",
    "print(exampleData)\n",
    "\n",
    "print(exampleData[0][0])\n",
    "print(exampleData[0][1])\n",
    "print(exampleData[0][2])\n",
    "print(exampleData[1][0])"
   ]
  },
  {
   "cell_type": "markdown",
   "metadata": {},
   "source": [
    "### 在for循环中，从Reader对象读取数据"
   ]
  },
  {
   "cell_type": "code",
   "execution_count": 9,
   "metadata": {},
   "outputs": [
    {
     "name": "stdout",
     "output_type": "stream",
     "text": [
      "Row #1 ['4/5/2014 13:34', 'Apples', '73']\n",
      "Row #2 ['4/5/2014 3:41', 'Cherries', '85']\n",
      "Row #3 ['4/6/2014 12:46', 'Pears', '14']\n",
      "Row #4 ['4/8/2014 8:59', 'Oranges', '52']\n",
      "Row #5 ['4/10/2014 2:07', 'Apples', '152']\n",
      "Row #6 ['4/10/2014 18:10', 'Bananas', '23']\n",
      "Row #7 ['4/10/2014 2:40', 'Strawberries', '98']\n"
     ]
    }
   ],
   "source": [
    "import csv\n",
    "exampleFile = open('example.csv')\n",
    "exampleReader = csv.reader(exampleFile)\n",
    "\n",
    "for row in exampleReader:\n",
    "    print('Row #' + str(exampleReader.line_num) + ' ' + str(row))  # 使用Reader对象的line_num变量，获取当前行的编号"
   ]
  },
  {
   "cell_type": "markdown",
   "metadata": {},
   "source": [
    "### Write对象\n",
    "- Write对象将数据写入CSV文件\n",
    "- Write对象的writerow()方法接受一个列表参数。列表中的每个词放在输出的CSV文件中的一个单元格中\n",
    "- writerow()函数的返回值是写入文件中的这一行字符数（包括换行符）\n",
    "- Write对象自动转义了‘Hello，world！’中的逗号，在CSV文件中使用了双引号。"
   ]
  },
  {
   "cell_type": "code",
   "execution_count": 16,
   "metadata": {},
   "outputs": [],
   "source": [
    "import csv\n",
    "outputFile = open('output.csv', 'w', newline='')\n",
    "outputWriter = csv.writer(outputFile)\n",
    "outputWriter.writerow(['spam', 'eggs', 'bacon', 'ham'])\n",
    "outputWriter.writerow(['Hello, world!', 'eggs', 'bacon', 'ham'])\n",
    "outputWriter.writerow([1, 2, 3.1415926, 4])\n",
    "outputFile.close()\n"
   ]
  },
  {
   "cell_type": "markdown",
   "metadata": {},
   "source": [
    "### delimiter和lineterminator关键字参数\n",
    "- 用制表符分隔单元格: delimiter = '\\t'\n",
    "- 有两倍行距：lineterminator = '\\n\\n'\n"
   ]
  },
  {
   "cell_type": "code",
   "execution_count": 22,
   "metadata": {},
   "outputs": [],
   "source": [
    "import csv\n",
    "csvFile = open('example.tsv', 'w', newline='')\n",
    "csvWriter = csv.writer(csvFile, delimiter = '\\t', lineterminator = '\\n\\n')\n",
    "csvWriter.writerow(['apples', 'oranges', 'grapes'])\n",
    "csvWriter.writerow(['eggs', 'bacon', 'ham'])\n",
    "csvWriter.writerow(['spam', 'spam', 'spam', 'spam', 'spam', 'spam'])\n",
    "csvFile.close()"
   ]
  },
  {
   "cell_type": "markdown",
   "metadata": {},
   "source": [
    "### 从CSV文件中删除表头\n",
    "程序需要做到以下几点：\n",
    "- 找出当前工作目录中的所有CSV文件\n",
    "- 读取每一个文件的全部内容\n",
    "- 跳过第一行，将内容写入一个新的CSV文件\n",
    "\n",
    "在代码上，程序需要做到以下几点：\n",
    "- 循环遍历从os.listdir()得到的文件列表，跳过非CSV文件\n",
    "- 创建一个CSV Reader对象，读取该文件的内容，利用line_num属性确定要跳过哪一行\n",
    "- 创建一个CSV Writer对象，将输入的数据写入新文件。\n",
    "\n",
    "参见/AutomateTheBoringStuff/DealWithCSV&JSON/removeCsvHeader/removeCsvHeader.py"
   ]
  },
  {
   "cell_type": "markdown",
   "metadata": {},
   "source": [
    "## JSON和API\n",
    "- JSON是JavaScript程序编写数据结构的原生方式，通常类似python的pprint()函数产生的结果\n",
    "- API返回的数据是针对机器格式化的（例如用JSON），API不是人容易阅读的\n"
   ]
  },
  {
   "cell_type": "markdown",
   "metadata": {},
   "source": [
    "## json模块\n",
    "- Python的json模块处理了JSON数据字符串和Python值之间转换的所有细节\n",
    "- 得到了json.loads()和json.dumps()函数\n",
    "- JSON通常不能存储每一种Python值，只能包含以下数据类型的值：\n",
    "    - 字符串、整型、浮点型、布尔型、列表、字典和NoneType\n",
    "- JSON不能表示Python特有的对象：\n",
    "    - File对象、CSV Reader对象或Writer对象、Regex对象或Selenium WebElement对象"
   ]
  },
  {
   "cell_type": "markdown",
   "metadata": {},
   "source": [
    "### 用loads()函数读取json\n",
    "- 导入json模块后，就可以调用loads()，向它传入一个JSON数据字符串\n",
    "- JSON字符串总是用双引号\n",
    "- 将数据返回为一个Python字典，Python字典是没有顺序的，如果打印jsonDataAsPythonValue，键-值对可能已不同顺序出现"
   ]
  },
  {
   "cell_type": "code",
   "execution_count": 30,
   "metadata": {},
   "outputs": [
    {
     "name": "stdout",
     "output_type": "stream",
     "text": [
      "{'name': 'Zophie', 'isCat': True, 'miceCaught': 0, 'felineIQ': None}\n"
     ]
    }
   ],
   "source": [
    "stringOfJsonData = '{\"name\": \"Zophie\", \"isCat\": true, \"miceCaught\": 0, \"felineIQ\": null}'\n",
    "\n",
    "import json\n",
    "jsonDataAsPythonValue = json.loads(stringOfJsonData)\n",
    "print(jsonDataAsPythonValue)"
   ]
  },
  {
   "cell_type": "markdown",
   "metadata": {},
   "source": [
    "### 用dumps函数写出JSON\n",
    "- json.dumps()函数  表示的是dump string 而不是dumps\n",
    "- 它将一个Python值转换为JSON格式的数据字符串"
   ]
  },
  {
   "cell_type": "code",
   "execution_count": 31,
   "metadata": {},
   "outputs": [
    {
     "name": "stdout",
     "output_type": "stream",
     "text": [
      "{\"name\": \"Zophie\", \"isCat\": true, \"miceCaught\": 0, \"felineIQ\": null}\n"
     ]
    }
   ],
   "source": [
    "pythonValue = {'name': 'Zophie', 'isCat': True, 'miceCaught': 0, 'felineIQ': None}\n",
    "\n",
    "import json\n",
    "stringOfJsonData = json.dumps(pythonValue)\n",
    "print(stringOfJsonData)"
   ]
  },
  {
   "cell_type": "markdown",
   "metadata": {},
   "source": [
    "## 项目：取得当前的天气数据\n",
    "程序将执行以下操作：\n",
    "- 从命令行读取请求位置\n",
    "- 从OpenWeatherMap.org下载JSON天气数据\n",
    "- 将JSON数据字符串转换成Python的数据结构\n",
    "- 打印今天和未来两天的天气\n",
    "\n",
    "代码需要执行以下任务：\n",
    "- 连接sys.argv中的字符串，得到位置\n",
    "- 调用requests.get()，下载天气数据\n",
    "- 调用json.loads(),将JSON数据转换为Python数据结构\n",
    "- 打印天气预报\n",
    "\n",
    "参考quickWeather.py"
   ]
  },
  {
   "cell_type": "code",
   "execution_count": null,
   "metadata": {},
   "outputs": [],
   "source": []
  }
 ],
 "metadata": {
  "kernelspec": {
   "display_name": "Python 3",
   "language": "python",
   "name": "python3"
  },
  "language_info": {
   "codemirror_mode": {
    "name": "ipython",
    "version": 3
   },
   "file_extension": ".py",
   "mimetype": "text/x-python",
   "name": "python",
   "nbconvert_exporter": "python",
   "pygments_lexer": "ipython3",
   "version": "3.7.1"
  }
 },
 "nbformat": 4,
 "nbformat_minor": 2
}
