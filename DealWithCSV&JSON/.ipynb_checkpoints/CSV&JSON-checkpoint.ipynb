{
 "cells": [
  {
   "cell_type": "markdown",
   "metadata": {},
   "source": [
    "# 第14章  处理CSV文件和JSON数据\n",
    "\n",
    "- CSV和JSON：纯文本文件，可以用文本编辑器进行查看\n",
    "- Python有专门的csv和json模块\n",
    "- CSV：Comma Separated Values  逗号分隔的值。\n",
    "    - CSV文件中每行代表电子表格中的一行，逗号分割了该行中的单元格\n",
    "    - CSV文件是简单的，缺少Excel电子表格的许多功能：\n",
    "        - 值没有类型，所有东西都是字符串\n",
    "        - 没有字体大小或颜色的设置\n",
    "        - 没有多个工作表\n",
    "        - 不能指定单元格的宽度和高度\n",
    "        - 不能合并单元格\n",
    "        - 不能嵌入图像或图表\n",
    "- JSON：JavaScript Object Notation"
   ]
  },
  {
   "cell_type": "markdown",
   "metadata": {},
   "source": [
    "## csv模块"
   ]
  },
  {
   "cell_type": "markdown",
   "metadata": {},
   "source": [
    "### Reader对象\n",
    "- csv模块是Python自带的，无需安装\n",
    "- open()函数打开CSV文件\n",
    "- 不用在open()返回的File对象上调用read()或readlines()方法，而是将它传递给csv.reader()函数\n",
    "- 不能直接将文件名字符串传递给csv.reader()函数\n",
    "- 要访问Reader对象中的函数，直接将它转换成一个普通的Python列表，即将它传递给list()"
   ]
  },
  {
   "cell_type": "code",
   "execution_count": 7,
   "metadata": {},
   "outputs": [
    {
     "name": "stdout",
     "output_type": "stream",
     "text": [
      "[['4/5/2014 13:34', 'Apples', '73'], ['4/5/2014 3:41', 'Cherries', '85'], ['4/6/2014 12:46', 'Pears', '14'], ['4/8/2014 8:59', 'Oranges', '52'], ['4/10/2014 2:07', 'Apples', '152'], ['4/10/2014 18:10', 'Bananas', '23'], ['4/10/2014 2:40', 'Strawberries', '98']]\n",
      "4/5/2014 13:34\n",
      "Apples\n",
      "73\n",
      "4/5/2014 3:41\n"
     ]
    }
   ],
   "source": [
    "import csv\n",
    "exampleFile = open('example.csv')\n",
    "exampleReader = csv.reader(exampleFile)\n",
    "exampleData = list(exampleReader)\n",
    "print(exampleData)\n",
    "\n",
    "print(exampleData[0][0])\n",
    "print(exampleData[0][1])\n",
    "print(exampleData[0][2])\n",
    "print(exampleData[1][0])"
   ]
  },
  {
   "cell_type": "markdown",
   "metadata": {},
   "source": [
    "### 在for循环中，从Reader对象读取数据"
   ]
  },
  {
   "cell_type": "code",
   "execution_count": 9,
   "metadata": {},
   "outputs": [
    {
     "name": "stdout",
     "output_type": "stream",
     "text": [
      "Row #1 ['4/5/2014 13:34', 'Apples', '73']\n",
      "Row #2 ['4/5/2014 3:41', 'Cherries', '85']\n",
      "Row #3 ['4/6/2014 12:46', 'Pears', '14']\n",
      "Row #4 ['4/8/2014 8:59', 'Oranges', '52']\n",
      "Row #5 ['4/10/2014 2:07', 'Apples', '152']\n",
      "Row #6 ['4/10/2014 18:10', 'Bananas', '23']\n",
      "Row #7 ['4/10/2014 2:40', 'Strawberries', '98']\n"
     ]
    }
   ],
   "source": [
    "import csv\n",
    "exampleFile = open('example.csv')\n",
    "exampleReader = csv.reader(exampleFile)\n",
    "\n",
    "for row in exampleReader:\n",
    "    print('Row #' + str(exampleReader.line_num) + ' ' + str(row))  # 使用Reader对象的line_num变量，获取当前行的编号"
   ]
  },
  {
   "cell_type": "markdown",
   "metadata": {},
   "source": [
    "### Write对象\n",
    "- Write对象将数据写入CSV文件\n",
    "- Write对象的writerow()方法接受一个列表参数。列表中的每个词放在输出的CSV文件中的一个单元格中\n",
    "- writerow()函数的返回值是写入文件中的这一行字符数（包括换行符）\n",
    "- Write对象自动转义了‘Hello，world！’中的逗号，在CSV文件中使用了双引号。"
   ]
  },
  {
   "cell_type": "code",
   "execution_count": 16,
   "metadata": {},
   "outputs": [],
   "source": [
    "import csv\n",
    "outputFile = open('output.csv', 'w', newline='')\n",
    "outputWriter = csv.writer(outputFile)\n",
    "outputWriter.writerow(['spam', 'eggs', 'bacon', 'ham'])\n",
    "outputWriter.writerow(['Hello, world!', 'eggs', 'bacon', 'ham'])\n",
    "outputWriter.writerow([1, 2, 3.1415926, 4])\n",
    "outputFile.close()\n"
   ]
  },
  {
   "cell_type": "markdown",
   "metadata": {},
   "source": [
    "### delimiter和lineterminator关键字参数\n",
    "- 用制表符分隔单元格: delimiter = '\\t'\n",
    "- 有两倍行距：lineterminator = '\\n\\n'\n"
   ]
  },
  {
   "cell_type": "code",
   "execution_count": 22,
   "metadata": {},
   "outputs": [],
   "source": [
    "import csv\n",
    "csvFile = open('example.tsv', 'w', newline='')\n",
    "csvWriter = csv.writer(csvFile, delimiter = '\\t', lineterminator = '\\n\\n')\n",
    "csvWriter.writerow(['apples', 'oranges', 'grapes'])\n",
    "csvWriter.writerow(['eggs', 'bacon', 'ham'])\n",
    "csvWriter.writerow(['spam', 'spam', 'spam', 'spam', 'spam', 'spam'])\n",
    "csvFile.close()"
   ]
  },
  {
   "cell_type": "markdown",
   "metadata": {},
   "source": [
    "### 从CSV文件中删除表头\n",
    "程序需要做到以下几点：\n",
    "- 找出当前工作目录中的所有CSV文件\n",
    "- 读取每一个文件的全部内容\n",
    "- 跳过第一行，将内容写入一个新的CSV文件\n",
    "\n",
    "在代码上，程序需要做到以下几点：\n",
    "- 循环遍历从os.listdir()得到的文件列表，跳过非CSV文件\n",
    "- 创建一个CSV Reader对象，读取该文件的内容，利用line_num属性确定要跳过哪一行\n",
    "- 创建一个CSV Writer对象，将输入的数据写入新文件。\n",
    "\n",
    "参见/AutomateTheBoringStuff/DealWithCSV&JSON/removeCsvHeader/removeCsvHeader.py"
   ]
  },
  {
   "cell_type": "markdown",
   "metadata": {},
   "source": [
    "## JSON和API\n",
    "- JSON是JavaScript程序编写数据结构的原生方式，通常类似python的pprint()函数产生的结果\n",
    "- API返回的数据是针对机器格式化的（例如用JSON），API不是人容易阅读的\n"
   ]
  },
  {
   "cell_type": "markdown",
   "metadata": {},
   "source": [
    "## json模块\n",
    "- Python的json模块处理了JSON数据字符串和Python值之间转换的所有细节\n",
    "- 得到了json.loads()和json.dumps()函数\n",
    "- JSON通常不能存储每一种Python值，只能包含以下数据类型的值：\n",
    "    - 字符串、整型、浮点型、布尔型、列表、字典和NoneType\n",
    "- JSON不能表示Python特有的对象：\n",
    "    - File对象、CSV Reader对象或Writer对象、Regex对象或Selenium WebElement对象"
   ]
  },
  {
   "cell_type": "markdown",
   "metadata": {},
   "source": [
    "### 用loads()函数读取json\n",
    "- 导入json模块后，就可以调用loads()，向它传入一个JSON数据字符串\n",
    "- JSON字符串总是用双引号\n",
    "- 将数据返回为一个Python字典，Python字典是没有顺序的，如果打印jsonDataAsPythonValue，键-值对可能已不同顺序出现"
   ]
  },
  {
   "cell_type": "code",
   "execution_count": 25,
   "metadata": {},
   "outputs": [
    {
     "ename": "SyntaxError",
     "evalue": "EOL while scanning string literal (<ipython-input-25-6a0c3e399f02>, line 1)",
     "output_type": "error",
     "traceback": [
      "\u001b[0;36m  File \u001b[0;32m\"<ipython-input-25-6a0c3e399f02>\"\u001b[0;36m, line \u001b[0;32m1\u001b[0m\n\u001b[0;31m    stringOfJsonData = '\u001b[0m\n\u001b[0m                        ^\u001b[0m\n\u001b[0;31mSyntaxError\u001b[0m\u001b[0;31m:\u001b[0m EOL while scanning string literal\n"
     ]
    }
   ],
   "source": [
    "stringOfJsonData = '\n",
    "    \"status\":0,\n",
    "    \"message\":\"ok\",\n",
    "    \"total\":10,\n",
    "    \"results\":[\n",
    "        {\n",
    "            \"name\":\"罗世文烈士史料陈列馆\",\n",
    "            \"location\":{\n",
    "                \"lat\":29.532769,\n",
    "                \"lng\":104.678836\n",
    "            },\n",
    "            \"address\":\"四川省内江市威远县公园路北(大风车儿童乐园附近)\",\n",
    "            \"province\":\"四川省\",\n",
    "            \"city\":\"内江市\",\n",
    "            \"area\":\"威远县\",\n",
    "            \"telephone\":\"(0832)8101197\",\n",
    "            \"detail\":1,\n",
    "            \"uid\":\"8a6079f6877d7321a20464e3\"\n",
    "        },\n",
    "        {\n",
    "            \"name\":\"资中博物馆\",\n",
    "            \"location\":{\n",
    "                \"lat\":29.786495,\n",
    "                \"lng\":104.858368\n",
    "            },\n",
    "            \"address\":\"内江市资中县武庙街62号\",\n",
    "            \"province\":\"四川省\",\n",
    "            \"city\":\"内江市\",\n",
    "            \"area\":\"资中县\",\n",
    "            \"telephone\":\"(0832)5518339\",\n",
    "            \"detail\":1,\n",
    "            \"uid\":\"14076dee180126f503294f9a\"\n",
    "        },\n",
    "        {\n",
    "            \"name\":\"爱品客(翠花街店)\",\n",
    "            \"location\":{\n",
    "                \"lat\":29.781853,\n",
    "                \"lng\":104.86157\n",
    "            },\n",
    "            \"address\":\"四川省内江市资中县中东街72\",\n",
    "            \"province\":\"四川省\",\n",
    "            \"city\":\"内江市\",\n",
    "            \"area\":\"资中县\",\n",
    "            \"telephone\":\"18680961319\",\n",
    "            \"detail\":1,\n",
    "            \"uid\":\"15f60d8f386b3419f60e771d\"\n",
    "        },\n",
    "        {\n",
    "            \"name\":\"张大千美术馆\",\n",
    "            \"location\":{\n",
    "                \"lat\":29.598763,\n",
    "                \"lng\":105.064276\n",
    "            },\n",
    "            \"address\":\"内江市东兴区大千路336号\",\n",
    "            \"province\":\"四川省\",\n",
    "            \"city\":\"内江市\",\n",
    "            \"area\":\"东兴区\",\n",
    "            \"street_id\":\"52e0c91b25c40da002897207\",\n",
    "            \"detail\":1,\n",
    "            \"uid\":\"52e0c91b25c40da002897207\"\n",
    "        },\n",
    "        {\n",
    "            \"name\":\"石牌坊博物馆\",\n",
    "            \"location\":{\n",
    "                \"lat\":29.350544,\n",
    "                \"lng\":105.286194\n",
    "            },\n",
    "            \"address\":\"内江市隆昌市金华路与隆华西路交叉口西北150米\",\n",
    "            \"province\":\"四川省\",\n",
    "            \"city\":\"内江市\",\n",
    "            \"area\":\"隆昌市\",\n",
    "            \"detail\":1,\n",
    "            \"uid\":\"615f98b16b0638fc2ce67bc4\"\n",
    "        },\n",
    "        {\n",
    "            \"name\":\"内江书画院\",\n",
    "            \"location\":{\n",
    "                \"lat\":29.599704,\n",
    "                \"lng\":105.065455\n",
    "            },\n",
    "            \"address\":\"四川省内江市东兴区东桐路园丁山\",\n",
    "            \"province\":\"四川省\",\n",
    "            \"city\":\"内江市\",\n",
    "            \"area\":\"东兴区\",\n",
    "            \"telephone\":\"(0832)2255773\",\n",
    "            \"detail\":1,\n",
    "            \"uid\":\"ec747168cd8de416cf06a41d\"\n",
    "        },\n",
    "        {\n",
    "            \"name\":\"茂康民俗博物馆\",\n",
    "            \"location\":{\n",
    "                \"lat\":29.786638,\n",
    "                \"lng\":104.861072\n",
    "            },\n",
    "            \"address\":\"公园路与荷花池街交叉口西50米\",\n",
    "            \"province\":\"四川省\",\n",
    "            \"city\":\"内江市\",\n",
    "            \"area\":\"资中县\",\n",
    "            \"detail\":1,\n",
    "            \"uid\":\"bcb46654105458d9b64f5488\"\n",
    "        },\n",
    "        {\n",
    "            \"name\":\"牌楼霓光艺术像馆\",\n",
    "            \"location\":{\n",
    "                \"lat\":29.579858,\n",
    "                \"lng\":105.071122\n",
    "            },\n",
    "            \"address\":\"环城路488号\",\n",
    "            \"province\":\"四川省\",\n",
    "            \"city\":\"内江市\",\n",
    "            \"area\":\"市中区\",\n",
    "            \"street_id\":\"143dc5fba337cc38d8ecedbd\",\n",
    "            \"detail\":1,\n",
    "            \"uid\":\"143dc5fba337cc38d8ecedbd\"\n",
    "        },\n",
    "        {\n",
    "            \"name\":\"快乐宝贝艺术馆\",\n",
    "            \"location\":{\n",
    "                \"lat\":29.439477,\n",
    "                \"lng\":105.353301\n",
    "            },\n",
    "            \"address\":\"环镇路东50米\",\n",
    "            \"province\":\"四川省\",\n",
    "            \"city\":\"内江市\",\n",
    "            \"area\":\"隆昌市\",\n",
    "            \"detail\":1,\n",
    "            \"uid\":\"9b1d10de2f5d09a4e8e58277\"\n",
    "        },\n",
    "        {\n",
    "            \"name\":\"大蓬车表演艺术馆\",\n",
    "            \"location\":{\n",
    "                \"lat\":29.597676,\n",
    "                \"lng\":105.08239\n",
    "            },\n",
    "            \"address\":\"中兴路115号\",\n",
    "            \"province\":\"四川省\",\n",
    "            \"city\":\"内江市\",\n",
    "            \"area\":\"东兴区\",\n",
    "            \"street_id\":\"ce1691bd69d44e20c5effb09\",\n",
    "            \"detail\":1,\n",
    "            \"uid\":\"ce1691bd69d44e20c5effb09\"\n",
    "        }\n",
    "    ]\n",
    "'\n",
    "\n",
    "import json\n",
    "jsonDataAsPythonValue = json.loads(stringOfJsonData)\n",
    "print(jsonDataAsPythonValue)"
   ]
  },
  {
   "cell_type": "markdown",
   "metadata": {},
   "source": [
    "### 用dumps函数写出JSON\n",
    "- json.dumps()函数  表示的是dump string 而不是dumps\n",
    "- 它将一个Python值转换为JSON格式的数据字符串"
   ]
  },
  {
   "cell_type": "code",
   "execution_count": null,
   "metadata": {},
   "outputs": [],
   "source": []
  }
 ],
 "metadata": {
  "kernelspec": {
   "display_name": "Python 3",
   "language": "python",
   "name": "python3"
  },
  "language_info": {
   "codemirror_mode": {
    "name": "ipython",
    "version": 3
   },
   "file_extension": ".py",
   "mimetype": "text/x-python",
   "name": "python",
   "nbconvert_exporter": "python",
   "pygments_lexer": "ipython3",
   "version": "3.7.1"
  }
 },
 "nbformat": 4,
 "nbformat_minor": 2
}
